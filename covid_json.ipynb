{
 "cells": [
  {
   "cell_type": "code",
   "execution_count": 49,
   "metadata": {},
   "outputs": [
    {
     "ename": "ModuleNotFoundError",
     "evalue": "No module named 'config'",
     "output_type": "error",
     "traceback": [
      "\u001b[1;31m---------------------------------------------------------------------------\u001b[0m",
      "\u001b[1;31mModuleNotFoundError\u001b[0m                       Traceback (most recent call last)",
      "\u001b[1;32m<ipython-input-1-36f9b7e730c3>\u001b[0m in \u001b[0;36m<module>\u001b[1;34m\u001b[0m\n\u001b[0;32m      5\u001b[0m \u001b[1;32mfrom\u001b[0m \u001b[0mdatetime\u001b[0m \u001b[1;32mimport\u001b[0m \u001b[0mdatetime\u001b[0m\u001b[1;33m\u001b[0m\u001b[1;33m\u001b[0m\u001b[0m\n\u001b[0;32m      6\u001b[0m \u001b[1;32mimport\u001b[0m \u001b[0mnumpy\u001b[0m \u001b[1;32mas\u001b[0m \u001b[0mnp\u001b[0m\u001b[1;33m\u001b[0m\u001b[1;33m\u001b[0m\u001b[0m\n\u001b[1;32m----> 7\u001b[1;33m \u001b[1;32mfrom\u001b[0m \u001b[0mconfig\u001b[0m \u001b[1;32mimport\u001b[0m \u001b[0mpg_password\u001b[0m\u001b[1;33m\u001b[0m\u001b[1;33m\u001b[0m\u001b[0m\n\u001b[0m\u001b[0;32m      8\u001b[0m \u001b[1;32mfrom\u001b[0m \u001b[0msqlalchemy\u001b[0m \u001b[1;32mimport\u001b[0m \u001b[0mcreate_engine\u001b[0m\u001b[1;33m\u001b[0m\u001b[1;33m\u001b[0m\u001b[0m\n",
      "\u001b[1;31mModuleNotFoundError\u001b[0m: No module named 'config'"
     ]
    }
   ],
   "source": [
    "# import dependencies \n",
    "import pandas as pd\n",
    "import time\n",
    "import datetime as dt\n",
    "from datetime import datetime\n",
    "import numpy as np\n",
    "from config import pg_password\n",
    "from sqlalchemy import create_engine"
   ]
  },
  {
   "cell_type": "markdown",
   "metadata": {},
   "source": [
    "## Read in data using pd.read_csv()"
   ]
  },
  {
   "cell_type": "code",
<<<<<<< HEAD
   "execution_count": null,
   "metadata": {},
   "outputs": [],
=======
   "execution_count": 50,
   "metadata": {},
   "outputs": [
    {
     "data": {
      "text/html": [
       "<div>\n",
       "<style scoped>\n",
       "    .dataframe tbody tr th:only-of-type {\n",
       "        vertical-align: middle;\n",
       "    }\n",
       "\n",
       "    .dataframe tbody tr th {\n",
       "        vertical-align: top;\n",
       "    }\n",
       "\n",
       "    .dataframe thead th {\n",
       "        text-align: right;\n",
       "    }\n",
       "</style>\n",
       "<table border=\"1\" class=\"dataframe\">\n",
       "  <thead>\n",
       "    <tr style=\"text-align: right;\">\n",
       "      <th></th>\n",
       "      <th>date</th>\n",
       "      <th>county</th>\n",
       "      <th>state</th>\n",
       "      <th>fips</th>\n",
       "      <th>cases</th>\n",
       "      <th>deaths</th>\n",
       "    </tr>\n",
       "  </thead>\n",
       "  <tbody>\n",
       "    <tr>\n",
       "      <th>0</th>\n",
       "      <td>2020-01-21</td>\n",
       "      <td>Snohomish</td>\n",
       "      <td>Washington</td>\n",
       "      <td>53061.0</td>\n",
       "      <td>1</td>\n",
       "      <td>0.0</td>\n",
       "    </tr>\n",
       "    <tr>\n",
       "      <th>1</th>\n",
       "      <td>2020-01-22</td>\n",
       "      <td>Snohomish</td>\n",
       "      <td>Washington</td>\n",
       "      <td>53061.0</td>\n",
       "      <td>1</td>\n",
       "      <td>0.0</td>\n",
       "    </tr>\n",
       "    <tr>\n",
       "      <th>2</th>\n",
       "      <td>2020-01-23</td>\n",
       "      <td>Snohomish</td>\n",
       "      <td>Washington</td>\n",
       "      <td>53061.0</td>\n",
       "      <td>1</td>\n",
       "      <td>0.0</td>\n",
       "    </tr>\n",
       "    <tr>\n",
       "      <th>3</th>\n",
       "      <td>2020-01-24</td>\n",
       "      <td>Cook</td>\n",
       "      <td>Illinois</td>\n",
       "      <td>17031.0</td>\n",
       "      <td>1</td>\n",
       "      <td>0.0</td>\n",
       "    </tr>\n",
       "    <tr>\n",
       "      <th>4</th>\n",
       "      <td>2020-01-24</td>\n",
       "      <td>Snohomish</td>\n",
       "      <td>Washington</td>\n",
       "      <td>53061.0</td>\n",
       "      <td>1</td>\n",
       "      <td>0.0</td>\n",
       "    </tr>\n",
       "  </tbody>\n",
       "</table>\n",
       "</div>"
      ],
      "text/plain": [
       "         date     county       state     fips  cases  deaths\n",
       "0  2020-01-21  Snohomish  Washington  53061.0      1     0.0\n",
       "1  2020-01-22  Snohomish  Washington  53061.0      1     0.0\n",
       "2  2020-01-23  Snohomish  Washington  53061.0      1     0.0\n",
       "3  2020-01-24       Cook    Illinois  17031.0      1     0.0\n",
       "4  2020-01-24  Snohomish  Washington  53061.0      1     0.0"
      ]
     },
     "execution_count": 50,
     "metadata": {},
     "output_type": "execute_result"
    }
   ],
>>>>>>> 4a773e5259c499c80e405ea5519b6cc7105175e5
   "source": [
    "# Read in csv\n",
    "covid_data_df = pd.read_csv(r\"us-counties.csv\")\n",
    "covid_data_df.head()"
   ]
  },
  {
   "cell_type": "code",
<<<<<<< HEAD
   "execution_count": null,
   "metadata": {},
   "outputs": [],
=======
   "execution_count": 51,
   "metadata": {},
   "outputs": [
    {
     "data": {
      "text/html": [
       "<div>\n",
       "<style scoped>\n",
       "    .dataframe tbody tr th:only-of-type {\n",
       "        vertical-align: middle;\n",
       "    }\n",
       "\n",
       "    .dataframe tbody tr th {\n",
       "        vertical-align: top;\n",
       "    }\n",
       "\n",
       "    .dataframe thead th {\n",
       "        text-align: right;\n",
       "    }\n",
       "</style>\n",
       "<table border=\"1\" class=\"dataframe\">\n",
       "  <thead>\n",
       "    <tr style=\"text-align: right;\">\n",
       "      <th></th>\n",
       "      <th>Geo Point</th>\n",
       "      <th>Geo Shape</th>\n",
       "      <th>STATEFP</th>\n",
       "      <th>COUNTYFP</th>\n",
       "      <th>COUNTYNS</th>\n",
       "      <th>GEOID</th>\n",
       "      <th>NAME</th>\n",
       "      <th>NAMELSAD</th>\n",
       "      <th>STUSAB</th>\n",
       "      <th>LSAD</th>\n",
       "      <th>...</th>\n",
       "      <th>CSAFP</th>\n",
       "      <th>CBSAFP</th>\n",
       "      <th>METDIVFP</th>\n",
       "      <th>FUNCSTAT</th>\n",
       "      <th>ALAND</th>\n",
       "      <th>AWATER</th>\n",
       "      <th>INTPTLAT</th>\n",
       "      <th>INTPTLON</th>\n",
       "      <th>STATE_NAME</th>\n",
       "      <th>COUNTYFP NOZERO</th>\n",
       "    </tr>\n",
       "  </thead>\n",
       "  <tbody>\n",
       "    <tr>\n",
       "      <th>0</th>\n",
       "      <td>36.5111268089, -117.410789686</td>\n",
       "      <td>{\"type\": \"Polygon\", \"coordinates\": [[[-118.337...</td>\n",
       "      <td>6</td>\n",
       "      <td>27</td>\n",
       "      <td>1804637</td>\n",
       "      <td>6027</td>\n",
       "      <td>Inyo</td>\n",
       "      <td>Inyo County</td>\n",
       "      <td>CA</td>\n",
       "      <td>6</td>\n",
       "      <td>...</td>\n",
       "      <td>NaN</td>\n",
       "      <td>NaN</td>\n",
       "      <td>NaN</td>\n",
       "      <td>A</td>\n",
       "      <td>26410680788</td>\n",
       "      <td>76915743</td>\n",
       "      <td>36.561977</td>\n",
       "      <td>-117.403927</td>\n",
       "      <td>California</td>\n",
       "      <td>27</td>\n",
       "    </tr>\n",
       "    <tr>\n",
       "      <th>1</th>\n",
       "      <td>37.9233794475, -121.951073113</td>\n",
       "      <td>{\"type\": \"Polygon\", \"coordinates\": [[[-122.267...</td>\n",
       "      <td>6</td>\n",
       "      <td>13</td>\n",
       "      <td>1675903</td>\n",
       "      <td>6013</td>\n",
       "      <td>Contra Costa</td>\n",
       "      <td>Contra Costa County</td>\n",
       "      <td>CA</td>\n",
       "      <td>6</td>\n",
       "      <td>...</td>\n",
       "      <td>488.0</td>\n",
       "      <td>41860.0</td>\n",
       "      <td>36084.0</td>\n",
       "      <td>A</td>\n",
       "      <td>1857229826</td>\n",
       "      <td>225285866</td>\n",
       "      <td>37.919479</td>\n",
       "      <td>-121.951543</td>\n",
       "      <td>California</td>\n",
       "      <td>13</td>\n",
       "    </tr>\n",
       "    <tr>\n",
       "      <th>2</th>\n",
       "      <td>38.5972506332, -119.82065303</td>\n",
       "      <td>{\"type\": \"Polygon\", \"coordinates\": [[[-120.073...</td>\n",
       "      <td>6</td>\n",
       "      <td>3</td>\n",
       "      <td>1675840</td>\n",
       "      <td>6003</td>\n",
       "      <td>Alpine</td>\n",
       "      <td>Alpine County</td>\n",
       "      <td>CA</td>\n",
       "      <td>6</td>\n",
       "      <td>...</td>\n",
       "      <td>NaN</td>\n",
       "      <td>NaN</td>\n",
       "      <td>NaN</td>\n",
       "      <td>A</td>\n",
       "      <td>1912292608</td>\n",
       "      <td>12557304</td>\n",
       "      <td>38.621783</td>\n",
       "      <td>-119.798352</td>\n",
       "      <td>California</td>\n",
       "      <td>3</td>\n",
       "    </tr>\n",
       "    <tr>\n",
       "      <th>3</th>\n",
       "      <td>40.7050090829, -123.915819446</td>\n",
       "      <td>{\"type\": \"Polygon\", \"coordinates\": [[[-124.281...</td>\n",
       "      <td>6</td>\n",
       "      <td>23</td>\n",
       "      <td>1681908</td>\n",
       "      <td>6023</td>\n",
       "      <td>Humboldt</td>\n",
       "      <td>Humboldt County</td>\n",
       "      <td>CA</td>\n",
       "      <td>6</td>\n",
       "      <td>...</td>\n",
       "      <td>NaN</td>\n",
       "      <td>21700.0</td>\n",
       "      <td>NaN</td>\n",
       "      <td>A</td>\n",
       "      <td>9241426488</td>\n",
       "      <td>1253864712</td>\n",
       "      <td>40.706655</td>\n",
       "      <td>-123.926176</td>\n",
       "      <td>California</td>\n",
       "      <td>23</td>\n",
       "    </tr>\n",
       "    <tr>\n",
       "      <th>4</th>\n",
       "      <td>39.0345595213, -121.694849665</td>\n",
       "      <td>{\"type\": \"Polygon\", \"coordinates\": [[[-121.928...</td>\n",
       "      <td>6</td>\n",
       "      <td>101</td>\n",
       "      <td>277315</td>\n",
       "      <td>6101</td>\n",
       "      <td>Sutter</td>\n",
       "      <td>Sutter County</td>\n",
       "      <td>CA</td>\n",
       "      <td>6</td>\n",
       "      <td>...</td>\n",
       "      <td>472.0</td>\n",
       "      <td>49700.0</td>\n",
       "      <td>NaN</td>\n",
       "      <td>A</td>\n",
       "      <td>1560546528</td>\n",
       "      <td>15240591</td>\n",
       "      <td>39.036190</td>\n",
       "      <td>-121.703940</td>\n",
       "      <td>California</td>\n",
       "      <td>101</td>\n",
       "    </tr>\n",
       "  </tbody>\n",
       "</table>\n",
       "<p>5 rows × 22 columns</p>\n",
       "</div>"
      ],
      "text/plain": [
       "                       Geo Point  \\\n",
       "0  36.5111268089, -117.410789686   \n",
       "1  37.9233794475, -121.951073113   \n",
       "2   38.5972506332, -119.82065303   \n",
       "3  40.7050090829, -123.915819446   \n",
       "4  39.0345595213, -121.694849665   \n",
       "\n",
       "                                           Geo Shape  STATEFP  COUNTYFP  \\\n",
       "0  {\"type\": \"Polygon\", \"coordinates\": [[[-118.337...        6        27   \n",
       "1  {\"type\": \"Polygon\", \"coordinates\": [[[-122.267...        6        13   \n",
       "2  {\"type\": \"Polygon\", \"coordinates\": [[[-120.073...        6         3   \n",
       "3  {\"type\": \"Polygon\", \"coordinates\": [[[-124.281...        6        23   \n",
       "4  {\"type\": \"Polygon\", \"coordinates\": [[[-121.928...        6       101   \n",
       "\n",
       "   COUNTYNS  GEOID          NAME             NAMELSAD STUSAB  LSAD  ...  \\\n",
       "0   1804637   6027          Inyo          Inyo County     CA     6  ...   \n",
       "1   1675903   6013  Contra Costa  Contra Costa County     CA     6  ...   \n",
       "2   1675840   6003        Alpine        Alpine County     CA     6  ...   \n",
       "3   1681908   6023      Humboldt      Humboldt County     CA     6  ...   \n",
       "4    277315   6101        Sutter        Sutter County     CA     6  ...   \n",
       "\n",
       "   CSAFP   CBSAFP  METDIVFP  FUNCSTAT        ALAND      AWATER   INTPTLAT  \\\n",
       "0    NaN      NaN       NaN         A  26410680788    76915743  36.561977   \n",
       "1  488.0  41860.0   36084.0         A   1857229826   225285866  37.919479   \n",
       "2    NaN      NaN       NaN         A   1912292608    12557304  38.621783   \n",
       "3    NaN  21700.0       NaN         A   9241426488  1253864712  40.706655   \n",
       "4  472.0  49700.0       NaN         A   1560546528    15240591  39.036190   \n",
       "\n",
       "     INTPTLON  STATE_NAME  COUNTYFP NOZERO  \n",
       "0 -117.403927  California               27  \n",
       "1 -121.951543  California               13  \n",
       "2 -119.798352  California                3  \n",
       "3 -123.926176  California               23  \n",
       "4 -121.703940  California              101  \n",
       "\n",
       "[5 rows x 22 columns]"
      ]
     },
     "execution_count": 51,
     "metadata": {},
     "output_type": "execute_result"
    }
   ],
>>>>>>> 4a773e5259c499c80e405ea5519b6cc7105175e5
   "source": [
    "# Read in csv with Geolocation data of each county in US\n",
    "geo_ca_df = pd.read_csv(r\"us_cities_with_longitude,latitude_data/us-county-boundaries.csv\")\n",
    "geo_ca_df.head()"
   ]
  },
  {
   "cell_type": "markdown",
   "metadata": {},
   "source": [
    "## Check DataFrame values\n",
    "- Total date values\n",
    "- Earliest date\n",
    "- Latest date\n",
    "    "
   ]
  },
  {
   "cell_type": "code",
<<<<<<< HEAD
   "execution_count": null,
   "metadata": {},
   "outputs": [],
=======
   "execution_count": 52,
   "metadata": {},
   "outputs": [
    {
     "data": {
      "text/plain": [
       "369"
      ]
     },
     "execution_count": 52,
     "metadata": {},
     "output_type": "execute_result"
    }
   ],
>>>>>>> 4a773e5259c499c80e405ea5519b6cc7105175e5
   "source": [
    "# Identify total date nunique() values\n",
    "covid_data_df['date'].nunique()"
   ]
  },
  {
   "cell_type": "code",
<<<<<<< HEAD
   "execution_count": null,
   "metadata": {},
   "outputs": [],
=======
   "execution_count": 53,
   "metadata": {},
   "outputs": [
    {
     "data": {
      "text/plain": [
       "'2020-01-21'"
      ]
     },
     "execution_count": 53,
     "metadata": {},
     "output_type": "execute_result"
    }
   ],
>>>>>>> 4a773e5259c499c80e405ea5519b6cc7105175e5
   "source": [
    "# Identify min() date range\n",
    "covid_data_df['date'].min()"
   ]
  },
  {
   "cell_type": "code",
<<<<<<< HEAD
   "execution_count": null,
   "metadata": {},
   "outputs": [],
=======
   "execution_count": 54,
   "metadata": {},
   "outputs": [
    {
     "data": {
      "text/plain": [
       "'2021-01-23'"
      ]
     },
     "execution_count": 54,
     "metadata": {},
     "output_type": "execute_result"
    }
   ],
>>>>>>> 4a773e5259c499c80e405ea5519b6cc7105175e5
   "source": [
    "# Identify max() date range\n",
    "covid_data_df['date'].max()"
   ]
  },
  {
   "cell_type": "markdown",
   "metadata": {},
   "source": [
    "## Clean and Transform Data\n",
    "- Format date from string to_datetime\n",
    "- Gather data for only California\n",
    "- Gather data for only 2020"
   ]
  },
  {
   "cell_type": "code",
<<<<<<< HEAD
   "execution_count": null,
   "metadata": {},
   "outputs": [],
=======
   "execution_count": 55,
   "metadata": {},
   "outputs": [
    {
     "data": {
      "text/html": [
       "<div>\n",
       "<style scoped>\n",
       "    .dataframe tbody tr th:only-of-type {\n",
       "        vertical-align: middle;\n",
       "    }\n",
       "\n",
       "    .dataframe tbody tr th {\n",
       "        vertical-align: top;\n",
       "    }\n",
       "\n",
       "    .dataframe thead th {\n",
       "        text-align: right;\n",
       "    }\n",
       "</style>\n",
       "<table border=\"1\" class=\"dataframe\">\n",
       "  <thead>\n",
       "    <tr style=\"text-align: right;\">\n",
       "      <th></th>\n",
       "      <th>date</th>\n",
       "      <th>county</th>\n",
       "      <th>state</th>\n",
       "      <th>fips</th>\n",
       "      <th>cases</th>\n",
       "      <th>deaths</th>\n",
       "    </tr>\n",
       "  </thead>\n",
       "  <tbody>\n",
       "    <tr>\n",
       "      <th>0</th>\n",
       "      <td>2020-01-21</td>\n",
       "      <td>Snohomish</td>\n",
       "      <td>Washington</td>\n",
       "      <td>53061.0</td>\n",
       "      <td>1</td>\n",
       "      <td>0.0</td>\n",
       "    </tr>\n",
       "    <tr>\n",
       "      <th>1</th>\n",
       "      <td>2020-01-22</td>\n",
       "      <td>Snohomish</td>\n",
       "      <td>Washington</td>\n",
       "      <td>53061.0</td>\n",
       "      <td>1</td>\n",
       "      <td>0.0</td>\n",
       "    </tr>\n",
       "    <tr>\n",
       "      <th>2</th>\n",
       "      <td>2020-01-23</td>\n",
       "      <td>Snohomish</td>\n",
       "      <td>Washington</td>\n",
       "      <td>53061.0</td>\n",
       "      <td>1</td>\n",
       "      <td>0.0</td>\n",
       "    </tr>\n",
       "    <tr>\n",
       "      <th>3</th>\n",
       "      <td>2020-01-24</td>\n",
       "      <td>Cook</td>\n",
       "      <td>Illinois</td>\n",
       "      <td>17031.0</td>\n",
       "      <td>1</td>\n",
       "      <td>0.0</td>\n",
       "    </tr>\n",
       "    <tr>\n",
       "      <th>4</th>\n",
       "      <td>2020-01-24</td>\n",
       "      <td>Snohomish</td>\n",
       "      <td>Washington</td>\n",
       "      <td>53061.0</td>\n",
       "      <td>1</td>\n",
       "      <td>0.0</td>\n",
       "    </tr>\n",
       "  </tbody>\n",
       "</table>\n",
       "</div>"
      ],
      "text/plain": [
       "        date     county       state     fips  cases  deaths\n",
       "0 2020-01-21  Snohomish  Washington  53061.0      1     0.0\n",
       "1 2020-01-22  Snohomish  Washington  53061.0      1     0.0\n",
       "2 2020-01-23  Snohomish  Washington  53061.0      1     0.0\n",
       "3 2020-01-24       Cook    Illinois  17031.0      1     0.0\n",
       "4 2020-01-24  Snohomish  Washington  53061.0      1     0.0"
      ]
     },
     "execution_count": 55,
     "metadata": {},
     "output_type": "execute_result"
    }
   ],
>>>>>>> 4a773e5259c499c80e405ea5519b6cc7105175e5
   "source": [
    "# Convert date column from string to datetime\n",
    "covid_data_df['date'] = pd.to_datetime(covid_data_df['date'], format='%Y/%m/%d')\n",
    "covid_data_df.head()"
   ]
  },
  {
   "cell_type": "code",
<<<<<<< HEAD
   "execution_count": null,
   "metadata": {},
   "outputs": [],
=======
   "execution_count": 56,
   "metadata": {},
   "outputs": [
    {
     "data": {
      "text/html": [
       "<div>\n",
       "<style scoped>\n",
       "    .dataframe tbody tr th:only-of-type {\n",
       "        vertical-align: middle;\n",
       "    }\n",
       "\n",
       "    .dataframe tbody tr th {\n",
       "        vertical-align: top;\n",
       "    }\n",
       "\n",
       "    .dataframe thead th {\n",
       "        text-align: right;\n",
       "    }\n",
       "</style>\n",
       "<table border=\"1\" class=\"dataframe\">\n",
       "  <thead>\n",
       "    <tr style=\"text-align: right;\">\n",
       "      <th></th>\n",
       "      <th>date</th>\n",
       "      <th>county</th>\n",
       "      <th>state</th>\n",
       "      <th>fips</th>\n",
       "      <th>cases</th>\n",
       "      <th>deaths</th>\n",
       "    </tr>\n",
       "  </thead>\n",
       "  <tbody>\n",
       "    <tr>\n",
       "      <th>5</th>\n",
       "      <td>2020-01-25</td>\n",
       "      <td>Orange</td>\n",
       "      <td>California</td>\n",
       "      <td>6059.0</td>\n",
       "      <td>1</td>\n",
       "      <td>0.0</td>\n",
       "    </tr>\n",
       "    <tr>\n",
       "      <th>9</th>\n",
       "      <td>2020-01-26</td>\n",
       "      <td>Los Angeles</td>\n",
       "      <td>California</td>\n",
       "      <td>6037.0</td>\n",
       "      <td>1</td>\n",
       "      <td>0.0</td>\n",
       "    </tr>\n",
       "    <tr>\n",
       "      <th>10</th>\n",
       "      <td>2020-01-26</td>\n",
       "      <td>Orange</td>\n",
       "      <td>California</td>\n",
       "      <td>6059.0</td>\n",
       "      <td>1</td>\n",
       "      <td>0.0</td>\n",
       "    </tr>\n",
       "    <tr>\n",
       "      <th>14</th>\n",
       "      <td>2020-01-27</td>\n",
       "      <td>Los Angeles</td>\n",
       "      <td>California</td>\n",
       "      <td>6037.0</td>\n",
       "      <td>1</td>\n",
       "      <td>0.0</td>\n",
       "    </tr>\n",
       "    <tr>\n",
       "      <th>15</th>\n",
       "      <td>2020-01-27</td>\n",
       "      <td>Orange</td>\n",
       "      <td>California</td>\n",
       "      <td>6059.0</td>\n",
       "      <td>1</td>\n",
       "      <td>0.0</td>\n",
       "    </tr>\n",
       "  </tbody>\n",
       "</table>\n",
       "</div>"
      ],
      "text/plain": [
       "         date       county       state    fips  cases  deaths\n",
       "5  2020-01-25       Orange  California  6059.0      1     0.0\n",
       "9  2020-01-26  Los Angeles  California  6037.0      1     0.0\n",
       "10 2020-01-26       Orange  California  6059.0      1     0.0\n",
       "14 2020-01-27  Los Angeles  California  6037.0      1     0.0\n",
       "15 2020-01-27       Orange  California  6059.0      1     0.0"
      ]
     },
     "execution_count": 56,
     "metadata": {},
     "output_type": "execute_result"
    }
   ],
>>>>>>> 4a773e5259c499c80e405ea5519b6cc7105175e5
   "source": [
    "# Using .loc create dataFrame for only California \n",
    "covid_cali_df = covid_data_df.loc[covid_data_df[\"state\"] == \"California\"] \n",
    "covid_cali_df.head()"
   ]
  },
  {
   "cell_type": "code",
<<<<<<< HEAD
   "execution_count": null,
   "metadata": {},
   "outputs": [],
=======
   "execution_count": 57,
   "metadata": {},
   "outputs": [
    {
     "data": {
      "text/plain": [
       "array(['Orange', 'Los Angeles', 'Santa Clara', 'San Francisco',\n",
       "       'San Diego', 'Humboldt', 'Sacramento', 'Solano', 'Marin', 'Napa',\n",
       "       'Sonoma', 'Alameda', 'Placer', 'San Mateo', 'Contra Costa', 'Yolo',\n",
       "       'Fresno', 'Madera', 'Riverside', 'Santa Cruz', 'Shasta',\n",
       "       'San Joaquin', 'Ventura', 'Stanislaus', 'Tulare', 'San Benito',\n",
       "       'San Luis Obispo', 'San Bernardino', 'Santa Barbara', 'Nevada',\n",
       "       'Kern', 'Monterey', 'Mendocino', 'Amador', 'Imperial', 'Butte',\n",
       "       'El Dorado', 'Siskiyou', 'Yuba', 'Unknown', 'Calaveras', 'Merced',\n",
       "       'Mono', 'Inyo', 'Sutter', 'Colusa', 'Kings', 'Glenn', 'Tuolumne',\n",
       "       'Alpine', 'Plumas', 'Del Norte', 'Tehama', 'Lake', 'Mariposa',\n",
       "       'Trinity', 'Sierra', 'Lassen', 'Modoc'], dtype=object)"
      ]
     },
     "execution_count": 57,
     "metadata": {},
     "output_type": "execute_result"
    }
   ],
>>>>>>> 4a773e5259c499c80e405ea5519b6cc7105175e5
   "source": [
    "# Get county names \n",
    "covid_cali_df.county.unique()"
   ]
  },
  {
   "cell_type": "code",
<<<<<<< HEAD
   "execution_count": null,
   "metadata": {},
   "outputs": [],
=======
   "execution_count": 58,
   "metadata": {},
   "outputs": [
    {
     "data": {
      "text/html": [
       "<div>\n",
       "<style scoped>\n",
       "    .dataframe tbody tr th:only-of-type {\n",
       "        vertical-align: middle;\n",
       "    }\n",
       "\n",
       "    .dataframe tbody tr th {\n",
       "        vertical-align: top;\n",
       "    }\n",
       "\n",
       "    .dataframe thead th {\n",
       "        text-align: right;\n",
       "    }\n",
       "</style>\n",
       "<table border=\"1\" class=\"dataframe\">\n",
       "  <thead>\n",
       "    <tr style=\"text-align: right;\">\n",
       "      <th></th>\n",
       "      <th>date</th>\n",
       "      <th>county</th>\n",
       "      <th>state</th>\n",
       "      <th>fips</th>\n",
       "      <th>cases</th>\n",
       "      <th>deaths</th>\n",
       "    </tr>\n",
       "  </thead>\n",
       "  <tbody>\n",
       "    <tr>\n",
       "      <th>5</th>\n",
       "      <td>2020-01-25</td>\n",
       "      <td>Orange</td>\n",
       "      <td>California</td>\n",
       "      <td>6059.0</td>\n",
       "      <td>1</td>\n",
       "      <td>0.0</td>\n",
       "    </tr>\n",
       "    <tr>\n",
       "      <th>9</th>\n",
       "      <td>2020-01-26</td>\n",
       "      <td>Los Angeles</td>\n",
       "      <td>California</td>\n",
       "      <td>6037.0</td>\n",
       "      <td>1</td>\n",
       "      <td>0.0</td>\n",
       "    </tr>\n",
       "    <tr>\n",
       "      <th>10</th>\n",
       "      <td>2020-01-26</td>\n",
       "      <td>Orange</td>\n",
       "      <td>California</td>\n",
       "      <td>6059.0</td>\n",
       "      <td>1</td>\n",
       "      <td>0.0</td>\n",
       "    </tr>\n",
       "    <tr>\n",
       "      <th>14</th>\n",
       "      <td>2020-01-27</td>\n",
       "      <td>Los Angeles</td>\n",
       "      <td>California</td>\n",
       "      <td>6037.0</td>\n",
       "      <td>1</td>\n",
       "      <td>0.0</td>\n",
       "    </tr>\n",
       "    <tr>\n",
       "      <th>15</th>\n",
       "      <td>2020-01-27</td>\n",
       "      <td>Orange</td>\n",
       "      <td>California</td>\n",
       "      <td>6059.0</td>\n",
       "      <td>1</td>\n",
       "      <td>0.0</td>\n",
       "    </tr>\n",
       "  </tbody>\n",
       "</table>\n",
       "</div>"
      ],
      "text/plain": [
       "         date       county       state    fips  cases  deaths\n",
       "5  2020-01-25       Orange  California  6059.0      1     0.0\n",
       "9  2020-01-26  Los Angeles  California  6037.0      1     0.0\n",
       "10 2020-01-26       Orange  California  6059.0      1     0.0\n",
       "14 2020-01-27  Los Angeles  California  6037.0      1     0.0\n",
       "15 2020-01-27       Orange  California  6059.0      1     0.0"
      ]
     },
     "execution_count": 58,
     "metadata": {},
     "output_type": "execute_result"
    }
   ],
>>>>>>> 4a773e5259c499c80e405ea5519b6cc7105175e5
   "source": [
    "# Clean data -  remove 'unknown' county\n",
    "clean_covid_df = covid_cali_df[covid_cali_df.county != 'Unknown']\n",
    "clean_covid_df.head()"
   ]
  },
  {
   "cell_type": "code",
<<<<<<< HEAD
   "execution_count": null,
   "metadata": {},
   "outputs": [],
=======
   "execution_count": 59,
   "metadata": {},
   "outputs": [
    {
     "data": {
      "text/plain": [
       "58"
      ]
     },
     "execution_count": 59,
     "metadata": {},
     "output_type": "execute_result"
    }
   ],
>>>>>>> 4a773e5259c499c80e405ea5519b6cc7105175e5
   "source": [
    "# Confirm that only 58 counties in California\n",
    "clean_covid_df.county.nunique()"
   ]
  },
  {
   "cell_type": "code",
<<<<<<< HEAD
   "execution_count": null,
   "metadata": {},
   "outputs": [],
=======
   "execution_count": 60,
   "metadata": {},
   "outputs": [
    {
     "data": {
      "text/html": [
       "<div>\n",
       "<style scoped>\n",
       "    .dataframe tbody tr th:only-of-type {\n",
       "        vertical-align: middle;\n",
       "    }\n",
       "\n",
       "    .dataframe tbody tr th {\n",
       "        vertical-align: top;\n",
       "    }\n",
       "\n",
       "    .dataframe thead th {\n",
       "        text-align: right;\n",
       "    }\n",
       "</style>\n",
       "<table border=\"1\" class=\"dataframe\">\n",
       "  <thead>\n",
       "    <tr style=\"text-align: right;\">\n",
       "      <th></th>\n",
       "      <th>date</th>\n",
       "      <th>county</th>\n",
       "      <th>state</th>\n",
       "      <th>fips</th>\n",
       "      <th>cases</th>\n",
       "      <th>deaths</th>\n",
       "    </tr>\n",
       "  </thead>\n",
       "  <tbody>\n",
       "    <tr>\n",
       "      <th>5</th>\n",
       "      <td>2020-01-25</td>\n",
       "      <td>Orange</td>\n",
       "      <td>California</td>\n",
       "      <td>6059.0</td>\n",
       "      <td>1</td>\n",
       "      <td>0.0</td>\n",
       "    </tr>\n",
       "    <tr>\n",
       "      <th>9</th>\n",
       "      <td>2020-01-26</td>\n",
       "      <td>Los Angeles</td>\n",
       "      <td>California</td>\n",
       "      <td>6037.0</td>\n",
       "      <td>1</td>\n",
       "      <td>0.0</td>\n",
       "    </tr>\n",
       "    <tr>\n",
       "      <th>10</th>\n",
       "      <td>2020-01-26</td>\n",
       "      <td>Orange</td>\n",
       "      <td>California</td>\n",
       "      <td>6059.0</td>\n",
       "      <td>1</td>\n",
       "      <td>0.0</td>\n",
       "    </tr>\n",
       "    <tr>\n",
       "      <th>14</th>\n",
       "      <td>2020-01-27</td>\n",
       "      <td>Los Angeles</td>\n",
       "      <td>California</td>\n",
       "      <td>6037.0</td>\n",
       "      <td>1</td>\n",
       "      <td>0.0</td>\n",
       "    </tr>\n",
       "    <tr>\n",
       "      <th>15</th>\n",
       "      <td>2020-01-27</td>\n",
       "      <td>Orange</td>\n",
       "      <td>California</td>\n",
       "      <td>6059.0</td>\n",
       "      <td>1</td>\n",
       "      <td>0.0</td>\n",
       "    </tr>\n",
       "  </tbody>\n",
       "</table>\n",
       "</div>"
      ],
      "text/plain": [
       "         date       county       state    fips  cases  deaths\n",
       "5  2020-01-25       Orange  California  6059.0      1     0.0\n",
       "9  2020-01-26  Los Angeles  California  6037.0      1     0.0\n",
       "10 2020-01-26       Orange  California  6059.0      1     0.0\n",
       "14 2020-01-27  Los Angeles  California  6037.0      1     0.0\n",
       "15 2020-01-27       Orange  California  6059.0      1     0.0"
      ]
     },
     "execution_count": 60,
     "metadata": {},
     "output_type": "execute_result"
    }
   ],
>>>>>>> 4a773e5259c499c80e405ea5519b6cc7105175e5
   "source": [
    "# Filter to only have 2020 data \n",
    "covid_cali_2020_df = clean_covid_df.loc[clean_covid_df[\"date\"] < \"2021-01-01\"]\n",
    "covid_cali_2020_df.head()"
   ]
  },
  {
   "cell_type": "code",
<<<<<<< HEAD
   "execution_count": null,
   "metadata": {},
   "outputs": [],
=======
   "execution_count": 61,
   "metadata": {},
   "outputs": [
    {
     "data": {
      "text/plain": [
       "342"
      ]
     },
     "execution_count": 61,
     "metadata": {},
     "output_type": "execute_result"
    }
   ],
>>>>>>> 4a773e5259c499c80e405ea5519b6cc7105175e5
   "source": [
    "# Identify date total nunique() total\n",
    "covid_cali_2020_df['date'].nunique()"
   ]
  },
  {
   "cell_type": "code",
<<<<<<< HEAD
   "execution_count": null,
   "metadata": {},
   "outputs": [],
=======
   "execution_count": 62,
   "metadata": {},
   "outputs": [
    {
     "data": {
      "text/plain": [
       "Timestamp('2020-01-25 00:00:00')"
      ]
     },
     "execution_count": 62,
     "metadata": {},
     "output_type": "execute_result"
    }
   ],
>>>>>>> 4a773e5259c499c80e405ea5519b6cc7105175e5
   "source": [
    "# Identify earliest date\n",
    "covid_cali_2020_df['date'].min()"
   ]
  },
  {
   "cell_type": "code",
<<<<<<< HEAD
   "execution_count": null,
   "metadata": {},
   "outputs": [],
=======
   "execution_count": 63,
   "metadata": {},
   "outputs": [
    {
     "data": {
      "text/plain": [
       "Timestamp('2020-12-31 00:00:00')"
      ]
     },
     "execution_count": 63,
     "metadata": {},
     "output_type": "execute_result"
    }
   ],
>>>>>>> 4a773e5259c499c80e405ea5519b6cc7105175e5
   "source": [
    "# Identify max() date to confirm it reflects 12-31-2020\n",
    "covid_cali_2020_df['date'].max()"
   ]
  },
  {
   "cell_type": "markdown",
   "metadata": {},
   "source": [
<<<<<<< HEAD
    "## Time"
   ]
  },
  {
   "cell_type": "code",
   "execution_count": null,
   "metadata": {},
   "outputs": [],
   "source": [
    "# import time\n",
    "# import datetime\n",
    "\n",
    "# date_time = covid_cali_2020_df['date']\n",
    "# date_time_format = \"%Y-%m-%d %H:%M:%S\"\n",
    "# date_time\n",
    "\n",
    "# time_object = time.strptime(date_time, date_time_format)\n",
    "# epoch_timestamp = time.mktime(time_object)\n",
    "# epoch_timestamp"
   ]
  },
  {
   "cell_type": "code",
   "execution_count": null,
   "metadata": {},
   "outputs": [],
   "source": [
    "# import time\n",
    "# import datetime\n",
    "# d = datetime.date(covid_cali_2020_df['date'])\n",
    "\n",
    "# covid_cali_2020_df['date'] = time.mktime(d.timetuple())\n",
    "# covid_cali_2020_df"
   ]
  },
  {
   "cell_type": "markdown",
   "metadata": {},
   "source": [
=======
>>>>>>> 4a773e5259c499c80e405ea5519b6cc7105175e5
    "## Create DataFrames for specific viualization needs\n",
    "- California only DataFrames grouped by date with cases total \n",
    "- All of California counties\n",
    "- Socal only DataFrames grouped by county \n",
    "- Nocal only DataFrames grouped by county"
   ]
  },
  {
   "cell_type": "code",
<<<<<<< HEAD
   "execution_count": null,
   "metadata": {},
   "outputs": [],
=======
   "execution_count": 64,
   "metadata": {},
   "outputs": [
    {
     "data": {
      "text/html": [
       "<div>\n",
       "<style scoped>\n",
       "    .dataframe tbody tr th:only-of-type {\n",
       "        vertical-align: middle;\n",
       "    }\n",
       "\n",
       "    .dataframe tbody tr th {\n",
       "        vertical-align: top;\n",
       "    }\n",
       "\n",
       "    .dataframe thead th {\n",
       "        text-align: right;\n",
       "    }\n",
       "</style>\n",
       "<table border=\"1\" class=\"dataframe\">\n",
       "  <thead>\n",
       "    <tr style=\"text-align: right;\">\n",
       "      <th></th>\n",
       "      <th>GEOID</th>\n",
       "      <th>NAME</th>\n",
       "      <th>INTPTLAT</th>\n",
       "      <th>INTPTLON</th>\n",
       "    </tr>\n",
       "  </thead>\n",
       "  <tbody>\n",
       "    <tr>\n",
       "      <th>0</th>\n",
       "      <td>6027</td>\n",
       "      <td>Inyo</td>\n",
       "      <td>36.561977</td>\n",
       "      <td>-117.403927</td>\n",
       "    </tr>\n",
       "    <tr>\n",
       "      <th>1</th>\n",
       "      <td>6013</td>\n",
       "      <td>Contra Costa</td>\n",
       "      <td>37.919479</td>\n",
       "      <td>-121.951543</td>\n",
       "    </tr>\n",
       "    <tr>\n",
       "      <th>2</th>\n",
       "      <td>6003</td>\n",
       "      <td>Alpine</td>\n",
       "      <td>38.621783</td>\n",
       "      <td>-119.798352</td>\n",
       "    </tr>\n",
       "    <tr>\n",
       "      <th>3</th>\n",
       "      <td>6023</td>\n",
       "      <td>Humboldt</td>\n",
       "      <td>40.706655</td>\n",
       "      <td>-123.926176</td>\n",
       "    </tr>\n",
       "    <tr>\n",
       "      <th>4</th>\n",
       "      <td>6101</td>\n",
       "      <td>Sutter</td>\n",
       "      <td>39.036190</td>\n",
       "      <td>-121.703940</td>\n",
       "    </tr>\n",
       "  </tbody>\n",
       "</table>\n",
       "</div>"
      ],
      "text/plain": [
       "   GEOID          NAME   INTPTLAT    INTPTLON\n",
       "0   6027          Inyo  36.561977 -117.403927\n",
       "1   6013  Contra Costa  37.919479 -121.951543\n",
       "2   6003        Alpine  38.621783 -119.798352\n",
       "3   6023      Humboldt  40.706655 -123.926176\n",
       "4   6101        Sutter  39.036190 -121.703940"
      ]
     },
     "execution_count": 64,
     "metadata": {},
     "output_type": "execute_result"
    }
   ],
>>>>>>> 4a773e5259c499c80e405ea5519b6cc7105175e5
   "source": [
    "# Filter data to only contain \"GEOID\", \"NAME\",\"INTPTLAT\",\"INTPTLON\"\n",
    "new_geo_ca_df=geo_ca_df[[\"GEOID\", \"NAME\", \"INTPTLAT\",\"INTPTLON\"]]\n",
    "new_geo_ca_df.head()"
   ]
  },
  {
   "cell_type": "code",
<<<<<<< HEAD
   "execution_count": null,
   "metadata": {},
   "outputs": [],
=======
   "execution_count": 65,
   "metadata": {},
   "outputs": [
    {
     "data": {
      "text/html": [
       "<div>\n",
       "<style scoped>\n",
       "    .dataframe tbody tr th:only-of-type {\n",
       "        vertical-align: middle;\n",
       "    }\n",
       "\n",
       "    .dataframe tbody tr th {\n",
       "        vertical-align: top;\n",
       "    }\n",
       "\n",
       "    .dataframe thead th {\n",
       "        text-align: right;\n",
       "    }\n",
       "</style>\n",
       "<table border=\"1\" class=\"dataframe\">\n",
       "  <thead>\n",
       "    <tr style=\"text-align: right;\">\n",
       "      <th></th>\n",
       "      <th>fips</th>\n",
       "      <th>county</th>\n",
       "      <th>latitude</th>\n",
       "      <th>longitude</th>\n",
       "    </tr>\n",
       "  </thead>\n",
       "  <tbody>\n",
       "    <tr>\n",
       "      <th>0</th>\n",
       "      <td>6027</td>\n",
       "      <td>Inyo</td>\n",
       "      <td>36.561977</td>\n",
       "      <td>-117.403927</td>\n",
       "    </tr>\n",
       "    <tr>\n",
       "      <th>1</th>\n",
       "      <td>6013</td>\n",
       "      <td>Contra Costa</td>\n",
       "      <td>37.919479</td>\n",
       "      <td>-121.951543</td>\n",
       "    </tr>\n",
       "    <tr>\n",
       "      <th>2</th>\n",
       "      <td>6003</td>\n",
       "      <td>Alpine</td>\n",
       "      <td>38.621783</td>\n",
       "      <td>-119.798352</td>\n",
       "    </tr>\n",
       "    <tr>\n",
       "      <th>3</th>\n",
       "      <td>6023</td>\n",
       "      <td>Humboldt</td>\n",
       "      <td>40.706655</td>\n",
       "      <td>-123.926176</td>\n",
       "    </tr>\n",
       "    <tr>\n",
       "      <th>4</th>\n",
       "      <td>6101</td>\n",
       "      <td>Sutter</td>\n",
       "      <td>39.036190</td>\n",
       "      <td>-121.703940</td>\n",
       "    </tr>\n",
       "  </tbody>\n",
       "</table>\n",
       "</div>"
      ],
      "text/plain": [
       "   fips        county   latitude   longitude\n",
       "0  6027          Inyo  36.561977 -117.403927\n",
       "1  6013  Contra Costa  37.919479 -121.951543\n",
       "2  6003        Alpine  38.621783 -119.798352\n",
       "3  6023      Humboldt  40.706655 -123.926176\n",
       "4  6101        Sutter  39.036190 -121.703940"
      ]
     },
     "execution_count": 65,
     "metadata": {},
     "output_type": "execute_result"
    }
   ],
>>>>>>> 4a773e5259c499c80e405ea5519b6cc7105175e5
   "source": [
    "# rename() columns=\n",
    "clean_geo_ca_df=new_geo_ca_df.rename(columns={\"GEOID\": \"fips\",\n",
    "                                           \"NAME\": \"county\",\n",
    "                                          \"INTPTLAT\":\"latitude\",\n",
    "                                          \"INTPTLON\":\"longitude\"\n",
    "                                         })\n",
    "clean_geo_ca_df.head()"
   ]
  },
  {
   "cell_type": "code",
<<<<<<< HEAD
   "execution_count": null,
   "metadata": {},
   "outputs": [],
=======
   "execution_count": 66,
   "metadata": {},
   "outputs": [
    {
     "data": {
      "text/plain": [
       "fips         58\n",
       "county       58\n",
       "latitude     58\n",
       "longitude    58\n",
       "dtype: int64"
      ]
     },
     "execution_count": 66,
     "metadata": {},
     "output_type": "execute_result"
    }
   ],
>>>>>>> 4a773e5259c499c80e405ea5519b6cc7105175e5
   "source": [
    "clean_geo_ca_df.nunique()"
   ]
  },
  {
   "cell_type": "code",
<<<<<<< HEAD
   "execution_count": null,
=======
   "execution_count": 67,
>>>>>>> 4a773e5259c499c80e405ea5519b6cc7105175e5
   "metadata": {},
   "outputs": [],
   "source": [
    "# group all of CA data by date\n",
    "cali_groupby_date_cases_df = covid_cali_2020_df.groupby('date')"
   ]
  },
  {
   "cell_type": "code",
<<<<<<< HEAD
   "execution_count": null,
   "metadata": {},
   "outputs": [],
=======
   "execution_count": 68,
   "metadata": {},
   "outputs": [
    {
     "data": {
      "text/plain": [
       "date\n",
       "2020-01-25    1\n",
       "2020-01-26    2\n",
       "2020-01-27    2\n",
       "2020-01-28    2\n",
       "2020-01-29    2\n",
       "Name: cases, dtype: int64"
      ]
     },
     "execution_count": 68,
     "metadata": {},
     "output_type": "execute_result"
    }
   ],
>>>>>>> 4a773e5259c499c80e405ea5519b6cc7105175e5
   "source": [
    "# Get sum for cases by date\n",
    "cali_date_total = cali_groupby_date_cases_df['cases'].sum()\n",
    "# Confirm data is correct\n",
    "cali_date_total.head()"
   ]
  },
  {
   "cell_type": "code",
<<<<<<< HEAD
   "execution_count": null,
   "metadata": {},
   "outputs": [],
=======
   "execution_count": 69,
   "metadata": {},
   "outputs": [
    {
     "data": {
      "text/html": [
       "<div>\n",
       "<style scoped>\n",
       "    .dataframe tbody tr th:only-of-type {\n",
       "        vertical-align: middle;\n",
       "    }\n",
       "\n",
       "    .dataframe tbody tr th {\n",
       "        vertical-align: top;\n",
       "    }\n",
       "\n",
       "    .dataframe thead th {\n",
       "        text-align: right;\n",
       "    }\n",
       "</style>\n",
       "<table border=\"1\" class=\"dataframe\">\n",
       "  <thead>\n",
       "    <tr style=\"text-align: right;\">\n",
       "      <th></th>\n",
       "      <th>cases</th>\n",
       "    </tr>\n",
       "    <tr>\n",
       "      <th>date</th>\n",
       "      <th></th>\n",
       "    </tr>\n",
       "  </thead>\n",
       "  <tbody>\n",
       "    <tr>\n",
       "      <th>2020-01-25</th>\n",
       "      <td>1</td>\n",
       "    </tr>\n",
       "    <tr>\n",
       "      <th>2020-01-26</th>\n",
       "      <td>2</td>\n",
       "    </tr>\n",
       "    <tr>\n",
       "      <th>2020-01-27</th>\n",
       "      <td>2</td>\n",
       "    </tr>\n",
       "    <tr>\n",
       "      <th>2020-01-28</th>\n",
       "      <td>2</td>\n",
       "    </tr>\n",
       "    <tr>\n",
       "      <th>2020-01-29</th>\n",
       "      <td>2</td>\n",
       "    </tr>\n",
       "  </tbody>\n",
       "</table>\n",
       "</div>"
      ],
      "text/plain": [
       "            cases\n",
       "date             \n",
       "2020-01-25      1\n",
       "2020-01-26      2\n",
       "2020-01-27      2\n",
       "2020-01-28      2\n",
       "2020-01-29      2"
      ]
     },
     "execution_count": 69,
     "metadata": {},
     "output_type": "execute_result"
    }
   ],
>>>>>>> 4a773e5259c499c80e405ea5519b6cc7105175e5
   "source": [
    "# Create series into DataFrame\n",
    "cali_date_total_df = pd.DataFrame(cali_date_total)\n",
    "cali_date_total_df.head()"
   ]
  },
  {
   "cell_type": "code",
<<<<<<< HEAD
   "execution_count": null,
   "metadata": {},
   "outputs": [],
=======
   "execution_count": 70,
   "metadata": {},
   "outputs": [
    {
     "data": {
      "text/plain": [
       "cases    342\n",
       "dtype: int64"
      ]
     },
     "execution_count": 70,
     "metadata": {},
     "output_type": "execute_result"
    }
   ],
>>>>>>> 4a773e5259c499c80e405ea5519b6cc7105175e5
   "source": [
    "# Identify total day count\n",
    "cali_date_total_df.count()"
   ]
  },
  {
   "cell_type": "code",
<<<<<<< HEAD
   "execution_count": null,
=======
   "execution_count": 71,
>>>>>>> 4a773e5259c499c80e405ea5519b6cc7105175e5
   "metadata": {},
   "outputs": [],
   "source": [
    "# groupby() county \n",
    "all_cali_counties = covid_cali_2020_df.groupby('county')"
   ]
  },
  {
   "cell_type": "code",
<<<<<<< HEAD
   "execution_count": null,
   "metadata": {},
   "outputs": [],
=======
   "execution_count": 72,
   "metadata": {},
   "outputs": [
    {
     "data": {
      "text/plain": [
       "county\n",
       "Alameda      4319856\n",
       "Alpine          2827\n",
       "Amador         85707\n",
       "Butte         516050\n",
       "Calaveras      65984\n",
       "Name: cases, dtype: int64"
      ]
     },
     "execution_count": 72,
     "metadata": {},
     "output_type": "execute_result"
    }
   ],
>>>>>>> 4a773e5259c499c80e405ea5519b6cc7105175e5
   "source": [
    "# sum() \n",
    "all_cali_counties_total = all_cali_counties['cases'].sum()\n",
    "all_cali_counties_total.head()"
   ]
  },
  {
   "cell_type": "code",
<<<<<<< HEAD
   "execution_count": null,
   "metadata": {},
   "outputs": [],
=======
   "execution_count": 73,
   "metadata": {},
   "outputs": [
    {
     "data": {
      "text/html": [
       "<div>\n",
       "<style scoped>\n",
       "    .dataframe tbody tr th:only-of-type {\n",
       "        vertical-align: middle;\n",
       "    }\n",
       "\n",
       "    .dataframe tbody tr th {\n",
       "        vertical-align: top;\n",
       "    }\n",
       "\n",
       "    .dataframe thead th {\n",
       "        text-align: right;\n",
       "    }\n",
       "</style>\n",
       "<table border=\"1\" class=\"dataframe\">\n",
       "  <thead>\n",
       "    <tr style=\"text-align: right;\">\n",
       "      <th></th>\n",
       "      <th>cases</th>\n",
       "    </tr>\n",
       "    <tr>\n",
       "      <th>county</th>\n",
       "      <th></th>\n",
       "    </tr>\n",
       "  </thead>\n",
       "  <tbody>\n",
       "    <tr>\n",
       "      <th>Alameda</th>\n",
       "      <td>4319856</td>\n",
       "    </tr>\n",
       "    <tr>\n",
       "      <th>Alpine</th>\n",
       "      <td>2827</td>\n",
       "    </tr>\n",
       "    <tr>\n",
       "      <th>Amador</th>\n",
       "      <td>85707</td>\n",
       "    </tr>\n",
       "    <tr>\n",
       "      <th>Butte</th>\n",
       "      <td>516050</td>\n",
       "    </tr>\n",
       "    <tr>\n",
       "      <th>Calaveras</th>\n",
       "      <td>65984</td>\n",
       "    </tr>\n",
       "  </tbody>\n",
       "</table>\n",
       "</div>"
      ],
      "text/plain": [
       "             cases\n",
       "county            \n",
       "Alameda    4319856\n",
       "Alpine        2827\n",
       "Amador       85707\n",
       "Butte       516050\n",
       "Calaveras    65984"
      ]
     },
     "execution_count": 73,
     "metadata": {},
     "output_type": "execute_result"
    }
   ],
>>>>>>> 4a773e5259c499c80e405ea5519b6cc7105175e5
   "source": [
    "# Create series into DataFrame\n",
    "all_cali_counties_df = pd.DataFrame(all_cali_counties_total)\n",
    "all_cali_counties_df.head()"
   ]
  },
  {
   "cell_type": "code",
<<<<<<< HEAD
   "execution_count": null,
   "metadata": {},
   "outputs": [],
=======
   "execution_count": 74,
   "metadata": {},
   "outputs": [
    {
     "data": {
      "text/html": [
       "<div>\n",
       "<style scoped>\n",
       "    .dataframe tbody tr th:only-of-type {\n",
       "        vertical-align: middle;\n",
       "    }\n",
       "\n",
       "    .dataframe tbody tr th {\n",
       "        vertical-align: top;\n",
       "    }\n",
       "\n",
       "    .dataframe thead th {\n",
       "        text-align: right;\n",
       "    }\n",
       "</style>\n",
       "<table border=\"1\" class=\"dataframe\">\n",
       "  <thead>\n",
       "    <tr style=\"text-align: right;\">\n",
       "      <th></th>\n",
       "      <th>cases</th>\n",
       "      <th>deaths</th>\n",
       "    </tr>\n",
       "    <tr>\n",
       "      <th>county</th>\n",
       "      <th></th>\n",
       "      <th></th>\n",
       "    </tr>\n",
       "  </thead>\n",
       "  <tbody>\n",
       "    <tr>\n",
       "      <th>Alameda</th>\n",
       "      <td>4319856</td>\n",
       "      <td>75187.0</td>\n",
       "    </tr>\n",
       "    <tr>\n",
       "      <th>Alpine</th>\n",
       "      <td>2827</td>\n",
       "      <td>0.0</td>\n",
       "    </tr>\n",
       "    <tr>\n",
       "      <th>Amador</th>\n",
       "      <td>85707</td>\n",
       "      <td>2343.0</td>\n",
       "    </tr>\n",
       "    <tr>\n",
       "      <th>Butte</th>\n",
       "      <td>516050</td>\n",
       "      <td>7094.0</td>\n",
       "    </tr>\n",
       "    <tr>\n",
       "      <th>Calaveras</th>\n",
       "      <td>65984</td>\n",
       "      <td>2172.0</td>\n",
       "    </tr>\n",
       "  </tbody>\n",
       "</table>\n",
       "</div>"
      ],
      "text/plain": [
       "             cases   deaths\n",
       "county                     \n",
       "Alameda    4319856  75187.0\n",
       "Alpine        2827      0.0\n",
       "Amador       85707   2343.0\n",
       "Butte       516050   7094.0\n",
       "Calaveras    65984   2172.0"
      ]
     },
     "execution_count": 74,
     "metadata": {},
     "output_type": "execute_result"
    }
   ],
   "source": [
    "cases_deaths = all_cali_counties[['cases', 'deaths']].sum()\n",
    "cases_deaths.head()"
   ]
  },
  {
   "cell_type": "code",
   "execution_count": 75,
   "metadata": {},
   "outputs": [],
   "source": [
    "county_cases_deaths = pd.merge(cases_deaths, clean_geo_ca_df, on='county', how='inner')\n",
    "county_cases_deaths_fips = county_cases_deaths.drop(columns=['latitude', 'longitude'])\n",
    "county_cases_deaths_fips_set = county_cases_deaths_fips.set_index('fips')"
   ]
  },
  {
   "cell_type": "code",
   "execution_count": 76,
   "metadata": {},
   "outputs": [
    {
     "data": {
      "text/html": [
       "<div>\n",
       "<style scoped>\n",
       "    .dataframe tbody tr th:only-of-type {\n",
       "        vertical-align: middle;\n",
       "    }\n",
       "\n",
       "    .dataframe tbody tr th {\n",
       "        vertical-align: top;\n",
       "    }\n",
       "\n",
       "    .dataframe thead th {\n",
       "        text-align: right;\n",
       "    }\n",
       "</style>\n",
       "<table border=\"1\" class=\"dataframe\">\n",
       "  <thead>\n",
       "    <tr style=\"text-align: right;\">\n",
       "      <th></th>\n",
       "      <th>county</th>\n",
       "      <th>cases</th>\n",
       "      <th>deaths</th>\n",
       "    </tr>\n",
       "    <tr>\n",
       "      <th>fips</th>\n",
       "      <th></th>\n",
       "      <th></th>\n",
       "      <th></th>\n",
       "    </tr>\n",
       "  </thead>\n",
       "  <tbody>\n",
       "    <tr>\n",
       "      <th>6001</th>\n",
       "      <td>Alameda</td>\n",
       "      <td>4319856</td>\n",
       "      <td>75187.0</td>\n",
       "    </tr>\n",
       "    <tr>\n",
       "      <th>6003</th>\n",
       "      <td>Alpine</td>\n",
       "      <td>2827</td>\n",
       "      <td>0.0</td>\n",
       "    </tr>\n",
       "    <tr>\n",
       "      <th>6005</th>\n",
       "      <td>Amador</td>\n",
       "      <td>85707</td>\n",
       "      <td>2343.0</td>\n",
       "    </tr>\n",
       "    <tr>\n",
       "      <th>6007</th>\n",
       "      <td>Butte</td>\n",
       "      <td>516050</td>\n",
       "      <td>7094.0</td>\n",
       "    </tr>\n",
       "    <tr>\n",
       "      <th>6009</th>\n",
       "      <td>Calaveras</td>\n",
       "      <td>65984</td>\n",
       "      <td>2172.0</td>\n",
       "    </tr>\n",
       "  </tbody>\n",
       "</table>\n",
       "</div>"
      ],
      "text/plain": [
       "         county    cases   deaths\n",
       "fips                             \n",
       "6001    Alameda  4319856  75187.0\n",
       "6003     Alpine     2827      0.0\n",
       "6005     Amador    85707   2343.0\n",
       "6007      Butte   516050   7094.0\n",
       "6009  Calaveras    65984   2172.0"
      ]
     },
     "execution_count": 76,
     "metadata": {},
     "output_type": "execute_result"
    }
   ],
>>>>>>> 4a773e5259c499c80e405ea5519b6cc7105175e5
   "source": [
    "county_cases_deaths_fips_df = pd.DataFrame(county_cases_deaths_fips_set)\n",
    "county_cases_deaths_fips_df.head()"
   ]
  },
  {
   "cell_type": "code",
<<<<<<< HEAD
   "execution_count": null,
   "metadata": {},
   "outputs": [],
=======
   "execution_count": 77,
   "metadata": {},
   "outputs": [
    {
     "data": {
      "text/html": [
       "<div>\n",
       "<style scoped>\n",
       "    .dataframe tbody tr th:only-of-type {\n",
       "        vertical-align: middle;\n",
       "    }\n",
       "\n",
       "    .dataframe tbody tr th {\n",
       "        vertical-align: top;\n",
       "    }\n",
       "\n",
       "    .dataframe thead th {\n",
       "        text-align: right;\n",
       "    }\n",
       "</style>\n",
       "<table border=\"1\" class=\"dataframe\">\n",
       "  <thead>\n",
       "    <tr style=\"text-align: right;\">\n",
       "      <th></th>\n",
       "      <th>date</th>\n",
       "      <th>county</th>\n",
       "      <th>state</th>\n",
       "      <th>fips</th>\n",
       "      <th>cases</th>\n",
       "      <th>deaths</th>\n",
       "    </tr>\n",
       "  </thead>\n",
       "  <tbody>\n",
       "    <tr>\n",
       "      <th>5</th>\n",
       "      <td>2020-01-25</td>\n",
       "      <td>Orange</td>\n",
       "      <td>California</td>\n",
       "      <td>6059.0</td>\n",
       "      <td>1</td>\n",
       "      <td>0.0</td>\n",
       "    </tr>\n",
       "    <tr>\n",
       "      <th>9</th>\n",
       "      <td>2020-01-26</td>\n",
       "      <td>Los Angeles</td>\n",
       "      <td>California</td>\n",
       "      <td>6037.0</td>\n",
       "      <td>1</td>\n",
       "      <td>0.0</td>\n",
       "    </tr>\n",
       "    <tr>\n",
       "      <th>10</th>\n",
       "      <td>2020-01-26</td>\n",
       "      <td>Orange</td>\n",
       "      <td>California</td>\n",
       "      <td>6059.0</td>\n",
       "      <td>1</td>\n",
       "      <td>0.0</td>\n",
       "    </tr>\n",
       "    <tr>\n",
       "      <th>14</th>\n",
       "      <td>2020-01-27</td>\n",
       "      <td>Los Angeles</td>\n",
       "      <td>California</td>\n",
       "      <td>6037.0</td>\n",
       "      <td>1</td>\n",
       "      <td>0.0</td>\n",
       "    </tr>\n",
       "    <tr>\n",
       "      <th>15</th>\n",
       "      <td>2020-01-27</td>\n",
       "      <td>Orange</td>\n",
       "      <td>California</td>\n",
       "      <td>6059.0</td>\n",
       "      <td>1</td>\n",
       "      <td>0.0</td>\n",
       "    </tr>\n",
       "  </tbody>\n",
       "</table>\n",
       "</div>"
      ],
      "text/plain": [
       "         date       county       state    fips  cases  deaths\n",
       "5  2020-01-25       Orange  California  6059.0      1     0.0\n",
       "9  2020-01-26  Los Angeles  California  6037.0      1     0.0\n",
       "10 2020-01-26       Orange  California  6059.0      1     0.0\n",
       "14 2020-01-27  Los Angeles  California  6037.0      1     0.0\n",
       "15 2020-01-27       Orange  California  6059.0      1     0.0"
      ]
     },
     "execution_count": 77,
     "metadata": {},
     "output_type": "execute_result"
    }
   ],
>>>>>>> 4a773e5259c499c80e405ea5519b6cc7105175e5
   "source": [
    "# Create socalArray from dataFrame with socal counites only\n",
    "socalArray = [\"Inyo\", \"Kern\", \"San Luis Obispo\", \"Santa Barbara\", \"Ventura\", \"Los Angeles\", \"San Bernardino\", \"Orange\", \"Riverside\", \"San Diego\", \"Imperial\"]\n",
    "\n",
    "# Crating only socal_data_df by selecting cocal counties only\n",
    "socal_data_df = covid_cali_2020_df[covid_cali_2020_df[\"county\"].isin(socalArray)]\n",
    "socal_data_df.head()"
   ]
  },
  {
   "cell_type": "code",
<<<<<<< HEAD
   "execution_count": null,
   "metadata": {},
   "outputs": [],
=======
   "execution_count": 78,
   "metadata": {},
   "outputs": [
    {
     "data": {
      "text/plain": [
       "date       342\n",
       "county      11\n",
       "state        1\n",
       "fips        11\n",
       "cases     2633\n",
       "deaths    1040\n",
       "dtype: int64"
      ]
     },
     "execution_count": 78,
     "metadata": {},
     "output_type": "execute_result"
    }
   ],
>>>>>>> 4a773e5259c499c80e405ea5519b6cc7105175e5
   "source": [
    "# Confirm that only the 11 socal counites are in dataFrame\n",
    "socal_data_df.nunique()"
   ]
  },
  {
   "cell_type": "code",
<<<<<<< HEAD
   "execution_count": null,
=======
   "execution_count": 79,
>>>>>>> 4a773e5259c499c80e405ea5519b6cc7105175e5
   "metadata": {},
   "outputs": [],
   "source": [
    "# Grouped socal by county\n",
    "grouped_socal_counties = socal_data_df.groupby('county')"
   ]
  },
  {
   "cell_type": "code",
<<<<<<< HEAD
   "execution_count": null,
   "metadata": {},
   "outputs": [],
=======
   "execution_count": 80,
   "metadata": {},
   "outputs": [
    {
     "data": {
      "text/plain": [
       "county\n",
       "Imperial        2486469\n",
       "Inyo              39360\n",
       "Kern            6042885\n",
       "Los Angeles    59976957\n",
       "Orange         11731923\n",
       "Name: cases, dtype: int64"
      ]
     },
     "execution_count": 80,
     "metadata": {},
     "output_type": "execute_result"
    }
   ],
>>>>>>> 4a773e5259c499c80e405ea5519b6cc7105175e5
   "source": [
    "# Get sum for cases by county\n",
    "grouped_socal_county_totals =  grouped_socal_counties['cases'].sum()\n",
    "grouped_socal_county_totals.head()"
   ]
  },
  {
   "cell_type": "code",
<<<<<<< HEAD
   "execution_count": null,
   "metadata": {},
   "outputs": [],
=======
   "execution_count": 81,
   "metadata": {},
   "outputs": [
    {
     "data": {
      "text/html": [
       "<div>\n",
       "<style scoped>\n",
       "    .dataframe tbody tr th:only-of-type {\n",
       "        vertical-align: middle;\n",
       "    }\n",
       "\n",
       "    .dataframe tbody tr th {\n",
       "        vertical-align: top;\n",
       "    }\n",
       "\n",
       "    .dataframe thead th {\n",
       "        text-align: right;\n",
       "    }\n",
       "</style>\n",
       "<table border=\"1\" class=\"dataframe\">\n",
       "  <thead>\n",
       "    <tr style=\"text-align: right;\">\n",
       "      <th></th>\n",
       "      <th>cases</th>\n",
       "    </tr>\n",
       "    <tr>\n",
       "      <th>county</th>\n",
       "      <th></th>\n",
       "    </tr>\n",
       "  </thead>\n",
       "  <tbody>\n",
       "    <tr>\n",
       "      <th>Imperial</th>\n",
       "      <td>2486469</td>\n",
       "    </tr>\n",
       "    <tr>\n",
       "      <th>Inyo</th>\n",
       "      <td>39360</td>\n",
       "    </tr>\n",
       "    <tr>\n",
       "      <th>Kern</th>\n",
       "      <td>6042885</td>\n",
       "    </tr>\n",
       "    <tr>\n",
       "      <th>Los Angeles</th>\n",
       "      <td>59976957</td>\n",
       "    </tr>\n",
       "    <tr>\n",
       "      <th>Orange</th>\n",
       "      <td>11731923</td>\n",
       "    </tr>\n",
       "  </tbody>\n",
       "</table>\n",
       "</div>"
      ],
      "text/plain": [
       "                cases\n",
       "county               \n",
       "Imperial      2486469\n",
       "Inyo            39360\n",
       "Kern          6042885\n",
       "Los Angeles  59976957\n",
       "Orange       11731923"
      ]
     },
     "execution_count": 81,
     "metadata": {},
     "output_type": "execute_result"
    }
   ],
>>>>>>> 4a773e5259c499c80e405ea5519b6cc7105175e5
   "source": [
    "grouped_socal_county_totals_df = pd.DataFrame(grouped_socal_county_totals)\n",
    "grouped_socal_county_totals_df.head()"
   ]
  },
  {
   "cell_type": "code",
<<<<<<< HEAD
   "execution_count": null,
   "metadata": {},
   "outputs": [],
=======
   "execution_count": 82,
   "metadata": {},
   "outputs": [
    {
     "data": {
      "text/html": [
       "<div>\n",
       "<style scoped>\n",
       "    .dataframe tbody tr th:only-of-type {\n",
       "        vertical-align: middle;\n",
       "    }\n",
       "\n",
       "    .dataframe tbody tr th {\n",
       "        vertical-align: top;\n",
       "    }\n",
       "\n",
       "    .dataframe thead th {\n",
       "        text-align: right;\n",
       "    }\n",
       "</style>\n",
       "<table border=\"1\" class=\"dataframe\">\n",
       "  <thead>\n",
       "    <tr style=\"text-align: right;\">\n",
       "      <th></th>\n",
       "      <th>county</th>\n",
       "      <th>cases</th>\n",
       "      <th>fips</th>\n",
       "      <th>latitude</th>\n",
       "      <th>longitude</th>\n",
       "    </tr>\n",
       "  </thead>\n",
       "  <tbody>\n",
       "    <tr>\n",
       "      <th>0</th>\n",
       "      <td>Imperial</td>\n",
       "      <td>2486469</td>\n",
       "      <td>6025</td>\n",
       "      <td>33.040814</td>\n",
       "      <td>-115.355400</td>\n",
       "    </tr>\n",
       "    <tr>\n",
       "      <th>1</th>\n",
       "      <td>Inyo</td>\n",
       "      <td>39360</td>\n",
       "      <td>6027</td>\n",
       "      <td>36.561977</td>\n",
       "      <td>-117.403927</td>\n",
       "    </tr>\n",
       "    <tr>\n",
       "      <th>2</th>\n",
       "      <td>Kern</td>\n",
       "      <td>6042885</td>\n",
       "      <td>6029</td>\n",
       "      <td>35.346629</td>\n",
       "      <td>-118.729506</td>\n",
       "    </tr>\n",
       "    <tr>\n",
       "      <th>3</th>\n",
       "      <td>Los Angeles</td>\n",
       "      <td>59976957</td>\n",
       "      <td>6037</td>\n",
       "      <td>34.196398</td>\n",
       "      <td>-118.261862</td>\n",
       "    </tr>\n",
       "    <tr>\n",
       "      <th>4</th>\n",
       "      <td>Orange</td>\n",
       "      <td>11731923</td>\n",
       "      <td>6059</td>\n",
       "      <td>33.675687</td>\n",
       "      <td>-117.777207</td>\n",
       "    </tr>\n",
       "  </tbody>\n",
       "</table>\n",
       "</div>"
      ],
      "text/plain": [
       "        county     cases  fips   latitude   longitude\n",
       "0     Imperial   2486469  6025  33.040814 -115.355400\n",
       "1         Inyo     39360  6027  36.561977 -117.403927\n",
       "2         Kern   6042885  6029  35.346629 -118.729506\n",
       "3  Los Angeles  59976957  6037  34.196398 -118.261862\n",
       "4       Orange  11731923  6059  33.675687 -117.777207"
      ]
     },
     "execution_count": 82,
     "metadata": {},
     "output_type": "execute_result"
    }
   ],
>>>>>>> 4a773e5259c499c80e405ea5519b6cc7105175e5
   "source": [
    "merge_socal_geo_df = pd.merge(grouped_socal_county_totals_df,clean_geo_ca_df, on=\"county\", how=\"inner\")\n",
    "merge_socal_geo_df.head()"
   ]
  },
  {
   "cell_type": "code",
<<<<<<< HEAD
   "execution_count": null,
   "metadata": {},
   "outputs": [],
=======
   "execution_count": 83,
   "metadata": {},
   "outputs": [
    {
     "data": {
      "text/plain": [
       "county        object\n",
       "cases          int64\n",
       "fips           int64\n",
       "latitude     float64\n",
       "longitude    float64\n",
       "dtype: object"
      ]
     },
     "execution_count": 83,
     "metadata": {},
     "output_type": "execute_result"
    }
   ],
>>>>>>> 4a773e5259c499c80e405ea5519b6cc7105175e5
   "source": [
    "merge_socal_geo_df.dtypes"
   ]
  },
  {
   "cell_type": "code",
<<<<<<< HEAD
   "execution_count": null,
   "metadata": {},
   "outputs": [],
=======
   "execution_count": 84,
   "metadata": {},
   "outputs": [
    {
     "data": {
      "text/html": [
       "<div>\n",
       "<style scoped>\n",
       "    .dataframe tbody tr th:only-of-type {\n",
       "        vertical-align: middle;\n",
       "    }\n",
       "\n",
       "    .dataframe tbody tr th {\n",
       "        vertical-align: top;\n",
       "    }\n",
       "\n",
       "    .dataframe thead th {\n",
       "        text-align: right;\n",
       "    }\n",
       "</style>\n",
       "<table border=\"1\" class=\"dataframe\">\n",
       "  <thead>\n",
       "    <tr style=\"text-align: right;\">\n",
       "      <th></th>\n",
       "      <th>date</th>\n",
       "      <th>county</th>\n",
       "      <th>state</th>\n",
       "      <th>fips</th>\n",
       "      <th>cases</th>\n",
       "      <th>deaths</th>\n",
       "    </tr>\n",
       "  </thead>\n",
       "  <tbody>\n",
       "    <tr>\n",
       "      <th>36</th>\n",
       "      <td>2020-01-31</td>\n",
       "      <td>Santa Clara</td>\n",
       "      <td>California</td>\n",
       "      <td>6085.0</td>\n",
       "      <td>1</td>\n",
       "      <td>0.0</td>\n",
       "    </tr>\n",
       "    <tr>\n",
       "      <th>42</th>\n",
       "      <td>2020-02-01</td>\n",
       "      <td>Santa Clara</td>\n",
       "      <td>California</td>\n",
       "      <td>6085.0</td>\n",
       "      <td>1</td>\n",
       "      <td>0.0</td>\n",
       "    </tr>\n",
       "    <tr>\n",
       "      <th>49</th>\n",
       "      <td>2020-02-02</td>\n",
       "      <td>San Francisco</td>\n",
       "      <td>California</td>\n",
       "      <td>6075.0</td>\n",
       "      <td>2</td>\n",
       "      <td>0.0</td>\n",
       "    </tr>\n",
       "    <tr>\n",
       "      <th>50</th>\n",
       "      <td>2020-02-02</td>\n",
       "      <td>Santa Clara</td>\n",
       "      <td>California</td>\n",
       "      <td>6085.0</td>\n",
       "      <td>2</td>\n",
       "      <td>0.0</td>\n",
       "    </tr>\n",
       "    <tr>\n",
       "      <th>57</th>\n",
       "      <td>2020-02-03</td>\n",
       "      <td>San Francisco</td>\n",
       "      <td>California</td>\n",
       "      <td>6075.0</td>\n",
       "      <td>2</td>\n",
       "      <td>0.0</td>\n",
       "    </tr>\n",
       "  </tbody>\n",
       "</table>\n",
       "</div>"
      ],
      "text/plain": [
       "         date         county       state    fips  cases  deaths\n",
       "36 2020-01-31    Santa Clara  California  6085.0      1     0.0\n",
       "42 2020-02-01    Santa Clara  California  6085.0      1     0.0\n",
       "49 2020-02-02  San Francisco  California  6075.0      2     0.0\n",
       "50 2020-02-02    Santa Clara  California  6085.0      2     0.0\n",
       "57 2020-02-03  San Francisco  California  6075.0      2     0.0"
      ]
     },
     "execution_count": 84,
     "metadata": {},
     "output_type": "execute_result"
    }
   ],
>>>>>>> 4a773e5259c499c80e405ea5519b6cc7105175e5
   "source": [
    "# Using socal_data_df, merge with clean_covid_cali_df and create duplicates for socal counties\n",
    "duplicates = pd.merge(clean_covid_df, socal_data_df, how= 'inner', left_on=['date', 'county'], right_on=['date', 'county'], left_index=True)\n",
    "\n",
    "# Use .drop duplicates on index to create nocal_data_df\n",
    "norcal_data_df = clean_covid_df.drop(duplicates.index)\n",
    "norcal_data_df.head()"
   ]
  },
  {
   "cell_type": "code",
<<<<<<< HEAD
   "execution_count": null,
   "metadata": {},
   "outputs": [],
=======
   "execution_count": 85,
   "metadata": {},
   "outputs": [
    {
     "data": {
      "text/plain": [
       "date       359\n",
       "county      58\n",
       "state        1\n",
       "fips        58\n",
       "cases     5935\n",
       "deaths     743\n",
       "dtype: int64"
      ]
     },
     "execution_count": 85,
     "metadata": {},
     "output_type": "execute_result"
    }
   ],
>>>>>>> 4a773e5259c499c80e405ea5519b6cc7105175e5
   "source": [
    "# Confirm that only 47 counties for nocal\n",
    "norcal_data_df.nunique()"
   ]
  },
  {
   "cell_type": "code",
<<<<<<< HEAD
   "execution_count": null,
=======
   "execution_count": 86,
>>>>>>> 4a773e5259c499c80e405ea5519b6cc7105175e5
   "metadata": {},
   "outputs": [],
   "source": [
    "# Grouped norcal data by county\n",
    "grouped_norcal_county_df = norcal_data_df.groupby('county')"
   ]
  },
  {
   "cell_type": "code",
<<<<<<< HEAD
   "execution_count": null,
   "metadata": {},
   "outputs": [],
=======
   "execution_count": 87,
   "metadata": {},
   "outputs": [
    {
     "data": {
      "text/plain": [
       "county\n",
       "Alameda      5741871\n",
       "Alpine          4436\n",
       "Amador        150719\n",
       "Butte         716705\n",
       "Calaveras      99176\n",
       "Name: cases, dtype: int64"
      ]
     },
     "execution_count": 87,
     "metadata": {},
     "output_type": "execute_result"
    }
   ],
>>>>>>> 4a773e5259c499c80e405ea5519b6cc7105175e5
   "source": [
    "# Get cases sum() by county \n",
    "grouped_norcal_county_total = grouped_norcal_county_df['cases'].sum()\n",
    "grouped_norcal_county_total.head()"
   ]
  },
  {
   "cell_type": "code",
<<<<<<< HEAD
   "execution_count": null,
   "metadata": {},
   "outputs": [],
=======
   "execution_count": 88,
   "metadata": {},
   "outputs": [
    {
     "data": {
      "text/html": [
       "<div>\n",
       "<style scoped>\n",
       "    .dataframe tbody tr th:only-of-type {\n",
       "        vertical-align: middle;\n",
       "    }\n",
       "\n",
       "    .dataframe tbody tr th {\n",
       "        vertical-align: top;\n",
       "    }\n",
       "\n",
       "    .dataframe thead th {\n",
       "        text-align: right;\n",
       "    }\n",
       "</style>\n",
       "<table border=\"1\" class=\"dataframe\">\n",
       "  <thead>\n",
       "    <tr style=\"text-align: right;\">\n",
       "      <th></th>\n",
       "      <th>cases</th>\n",
       "    </tr>\n",
       "    <tr>\n",
       "      <th>county</th>\n",
       "      <th></th>\n",
       "    </tr>\n",
       "  </thead>\n",
       "  <tbody>\n",
       "    <tr>\n",
       "      <th>Alameda</th>\n",
       "      <td>5741871</td>\n",
       "    </tr>\n",
       "    <tr>\n",
       "      <th>Alpine</th>\n",
       "      <td>4436</td>\n",
       "    </tr>\n",
       "    <tr>\n",
       "      <th>Amador</th>\n",
       "      <td>150719</td>\n",
       "    </tr>\n",
       "    <tr>\n",
       "      <th>Butte</th>\n",
       "      <td>716705</td>\n",
       "    </tr>\n",
       "    <tr>\n",
       "      <th>Calaveras</th>\n",
       "      <td>99176</td>\n",
       "    </tr>\n",
       "  </tbody>\n",
       "</table>\n",
       "</div>"
      ],
      "text/plain": [
       "             cases\n",
       "county            \n",
       "Alameda    5741871\n",
       "Alpine        4436\n",
       "Amador      150719\n",
       "Butte       716705\n",
       "Calaveras    99176"
      ]
     },
     "execution_count": 88,
     "metadata": {},
     "output_type": "execute_result"
    }
   ],
>>>>>>> 4a773e5259c499c80e405ea5519b6cc7105175e5
   "source": [
    "# Create DataFrame from series\n",
    "grouped_norcal_county_total_df = pd.DataFrame(grouped_norcal_county_total)\n",
    "grouped_norcal_county_total_df.head()"
   ]
  },
  {
   "cell_type": "code",
<<<<<<< HEAD
   "execution_count": null,
   "metadata": {},
   "outputs": [],
=======
   "execution_count": 89,
   "metadata": {},
   "outputs": [
    {
     "data": {
      "text/html": [
       "<div>\n",
       "<style scoped>\n",
       "    .dataframe tbody tr th:only-of-type {\n",
       "        vertical-align: middle;\n",
       "    }\n",
       "\n",
       "    .dataframe tbody tr th {\n",
       "        vertical-align: top;\n",
       "    }\n",
       "\n",
       "    .dataframe thead th {\n",
       "        text-align: right;\n",
       "    }\n",
       "</style>\n",
       "<table border=\"1\" class=\"dataframe\">\n",
       "  <thead>\n",
       "    <tr style=\"text-align: right;\">\n",
       "      <th></th>\n",
       "      <th>county</th>\n",
       "      <th>cases</th>\n",
       "      <th>fips</th>\n",
       "      <th>latitude</th>\n",
       "      <th>longitude</th>\n",
       "    </tr>\n",
       "  </thead>\n",
       "  <tbody>\n",
       "    <tr>\n",
       "      <th>0</th>\n",
       "      <td>Alameda</td>\n",
       "      <td>5741871</td>\n",
       "      <td>6001</td>\n",
       "      <td>37.647139</td>\n",
       "      <td>-121.912488</td>\n",
       "    </tr>\n",
       "    <tr>\n",
       "      <th>1</th>\n",
       "      <td>Alpine</td>\n",
       "      <td>4436</td>\n",
       "      <td>6003</td>\n",
       "      <td>38.621783</td>\n",
       "      <td>-119.798352</td>\n",
       "    </tr>\n",
       "    <tr>\n",
       "      <th>2</th>\n",
       "      <td>Amador</td>\n",
       "      <td>150719</td>\n",
       "      <td>6005</td>\n",
       "      <td>38.443550</td>\n",
       "      <td>-120.653856</td>\n",
       "    </tr>\n",
       "    <tr>\n",
       "      <th>3</th>\n",
       "      <td>Butte</td>\n",
       "      <td>716705</td>\n",
       "      <td>6007</td>\n",
       "      <td>39.665959</td>\n",
       "      <td>-121.601919</td>\n",
       "    </tr>\n",
       "    <tr>\n",
       "      <th>4</th>\n",
       "      <td>Calaveras</td>\n",
       "      <td>99176</td>\n",
       "      <td>6009</td>\n",
       "      <td>38.183900</td>\n",
       "      <td>-120.561442</td>\n",
       "    </tr>\n",
       "  </tbody>\n",
       "</table>\n",
       "</div>"
      ],
      "text/plain": [
       "      county    cases  fips   latitude   longitude\n",
       "0    Alameda  5741871  6001  37.647139 -121.912488\n",
       "1     Alpine     4436  6003  38.621783 -119.798352\n",
       "2     Amador   150719  6005  38.443550 -120.653856\n",
       "3      Butte   716705  6007  39.665959 -121.601919\n",
       "4  Calaveras    99176  6009  38.183900 -120.561442"
      ]
     },
     "execution_count": 89,
     "metadata": {},
     "output_type": "execute_result"
    }
   ],
>>>>>>> 4a773e5259c499c80e405ea5519b6cc7105175e5
   "source": [
    "merge_norcal_geo_df = pd.merge(grouped_norcal_county_total_df,clean_geo_ca_df, on=\"county\", how=\"inner\")\n",
    "merge_norcal_geo_df.head()"
   ]
  },
  {
   "cell_type": "markdown",
   "metadata": {},
   "source": [
    "## Make connection to Postgres"
   ]
  },
  {
   "cell_type": "code",
<<<<<<< HEAD
   "execution_count": null,
=======
   "execution_count": 90,
>>>>>>> 4a773e5259c499c80e405ea5519b6cc7105175e5
   "metadata": {},
   "outputs": [],
   "source": [
    "# Make connection to telecommunication_db in postgresql\n",
    "connection_string = f\"postgres:{pg_password}@localhost:5432/covid_mask_effect_db\"\n",
    "engine = create_engine(f'postgresql://{connection_string}')"
   ]
  },
  {
   "cell_type": "code",
<<<<<<< HEAD
   "execution_count": null,
   "metadata": {},
   "outputs": [],
=======
   "execution_count": 91,
   "metadata": {},
   "outputs": [
    {
     "data": {
      "text/plain": [
       "['cali_2020', 'socal_geo', 'norcal_geo', 'cali_county', 'cases_deaths']"
      ]
     },
     "execution_count": 91,
     "metadata": {},
     "output_type": "execute_result"
    }
   ],
>>>>>>> 4a773e5259c499c80e405ea5519b6cc7105175e5
   "source": [
    "# Read in tables_names() from postgres\n",
    "engine.table_names()"
   ]
  },
  {
   "cell_type": "markdown",
   "metadata": {},
   "source": [
    "## Load DataFrames to Postgres"
   ]
  },
  {
   "cell_type": "code",
<<<<<<< HEAD
   "execution_count": null,
=======
   "execution_count": 92,
>>>>>>> 4a773e5259c499c80e405ea5519b6cc7105175e5
   "metadata": {},
   "outputs": [],
   "source": [
    "#cali_date_total_df.to_sql(name='cali_2020', con=engine, if_exists='append', index=True)"
   ]
  },
  {
   "cell_type": "code",
<<<<<<< HEAD
   "execution_count": null,
=======
   "execution_count": 93,
>>>>>>> 4a773e5259c499c80e405ea5519b6cc7105175e5
   "metadata": {},
   "outputs": [],
   "source": [
    "#merged_all_cali_counties_df.to_sql(name='cali_county', con=engine, if_exists='append', index=False)"
   ]
  },
  {
   "cell_type": "code",
<<<<<<< HEAD
   "execution_count": null,
=======
   "execution_count": 94,
>>>>>>> 4a773e5259c499c80e405ea5519b6cc7105175e5
   "metadata": {},
   "outputs": [],
   "source": [
    "#merge_socal_geo_df.to_sql(name='socal_geo', con=engine, if_exists='append', index=False)"
   ]
  },
  {
   "cell_type": "code",
<<<<<<< HEAD
   "execution_count": null,
=======
   "execution_count": 95,
>>>>>>> 4a773e5259c499c80e405ea5519b6cc7105175e5
   "metadata": {},
   "outputs": [],
   "source": [
    "#merge_norcal_geo_df.to_sql(name='norcal_geo', con=engine, if_exists='append', index=False)"
   ]
  },
  {
   "cell_type": "code",
   "execution_count": 98,
   "metadata": {},
   "outputs": [],
   "source": [
    "county_cases_deaths_fips_df.to_sql(name='cases_deaths', con=engine, if_exists='append', index=True)"
   ]
  },
  {
   "cell_type": "markdown",
   "metadata": {},
   "source": [
    "## Read in tables from pgadmin to confirm data was received correclty"
   ]
  },
  {
   "cell_type": "code",
<<<<<<< HEAD
   "execution_count": null,
   "metadata": {},
   "outputs": [],
=======
   "execution_count": 99,
   "metadata": {},
   "outputs": [
    {
     "data": {
      "text/html": [
       "<div>\n",
       "<style scoped>\n",
       "    .dataframe tbody tr th:only-of-type {\n",
       "        vertical-align: middle;\n",
       "    }\n",
       "\n",
       "    .dataframe tbody tr th {\n",
       "        vertical-align: top;\n",
       "    }\n",
       "\n",
       "    .dataframe thead th {\n",
       "        text-align: right;\n",
       "    }\n",
       "</style>\n",
       "<table border=\"1\" class=\"dataframe\">\n",
       "  <thead>\n",
       "    <tr style=\"text-align: right;\">\n",
       "      <th></th>\n",
       "      <th>date</th>\n",
       "      <th>cases</th>\n",
       "    </tr>\n",
       "  </thead>\n",
       "  <tbody>\n",
       "    <tr>\n",
       "      <th>0</th>\n",
       "      <td>2020-01-25</td>\n",
       "      <td>1</td>\n",
       "    </tr>\n",
       "    <tr>\n",
       "      <th>1</th>\n",
       "      <td>2020-01-26</td>\n",
       "      <td>2</td>\n",
       "    </tr>\n",
       "    <tr>\n",
       "      <th>2</th>\n",
       "      <td>2020-01-27</td>\n",
       "      <td>2</td>\n",
       "    </tr>\n",
       "    <tr>\n",
       "      <th>3</th>\n",
       "      <td>2020-01-28</td>\n",
       "      <td>2</td>\n",
       "    </tr>\n",
       "    <tr>\n",
       "      <th>4</th>\n",
       "      <td>2020-01-29</td>\n",
       "      <td>2</td>\n",
       "    </tr>\n",
       "  </tbody>\n",
       "</table>\n",
       "</div>"
      ],
      "text/plain": [
       "         date  cases\n",
       "0  2020-01-25      1\n",
       "1  2020-01-26      2\n",
       "2  2020-01-27      2\n",
       "3  2020-01-28      2\n",
       "4  2020-01-29      2"
      ]
     },
     "execution_count": 99,
     "metadata": {},
     "output_type": "execute_result"
    }
   ],
>>>>>>> 4a773e5259c499c80e405ea5519b6cc7105175e5
   "source": [
    "pd.read_sql_query('SELECT * FROM cali_2020', con=engine).head()"
   ]
  },
  {
   "cell_type": "code",
<<<<<<< HEAD
   "execution_count": null,
   "metadata": {},
   "outputs": [],
=======
   "execution_count": 100,
   "metadata": {},
   "outputs": [
    {
     "data": {
      "text/html": [
       "<div>\n",
       "<style scoped>\n",
       "    .dataframe tbody tr th:only-of-type {\n",
       "        vertical-align: middle;\n",
       "    }\n",
       "\n",
       "    .dataframe tbody tr th {\n",
       "        vertical-align: top;\n",
       "    }\n",
       "\n",
       "    .dataframe thead th {\n",
       "        text-align: right;\n",
       "    }\n",
       "</style>\n",
       "<table border=\"1\" class=\"dataframe\">\n",
       "  <thead>\n",
       "    <tr style=\"text-align: right;\">\n",
       "      <th></th>\n",
       "      <th>county</th>\n",
       "      <th>cases</th>\n",
       "      <th>fips</th>\n",
       "      <th>latitude</th>\n",
       "      <th>longitude</th>\n",
       "    </tr>\n",
       "  </thead>\n",
       "  <tbody>\n",
       "    <tr>\n",
       "      <th>0</th>\n",
       "      <td>Alameda</td>\n",
       "      <td>4319856</td>\n",
       "      <td>6001</td>\n",
       "      <td>37.647139</td>\n",
       "      <td>-121.912488</td>\n",
       "    </tr>\n",
       "    <tr>\n",
       "      <th>1</th>\n",
       "      <td>Alpine</td>\n",
       "      <td>2827</td>\n",
       "      <td>6003</td>\n",
       "      <td>38.621783</td>\n",
       "      <td>-119.798352</td>\n",
       "    </tr>\n",
       "    <tr>\n",
       "      <th>2</th>\n",
       "      <td>Amador</td>\n",
       "      <td>85707</td>\n",
       "      <td>6005</td>\n",
       "      <td>38.443550</td>\n",
       "      <td>-120.653856</td>\n",
       "    </tr>\n",
       "    <tr>\n",
       "      <th>3</th>\n",
       "      <td>Butte</td>\n",
       "      <td>516050</td>\n",
       "      <td>6007</td>\n",
       "      <td>39.665959</td>\n",
       "      <td>-121.601919</td>\n",
       "    </tr>\n",
       "    <tr>\n",
       "      <th>4</th>\n",
       "      <td>Calaveras</td>\n",
       "      <td>65984</td>\n",
       "      <td>6009</td>\n",
       "      <td>38.183900</td>\n",
       "      <td>-120.561442</td>\n",
       "    </tr>\n",
       "  </tbody>\n",
       "</table>\n",
       "</div>"
      ],
      "text/plain": [
       "      county    cases  fips   latitude   longitude\n",
       "0    Alameda  4319856  6001  37.647139 -121.912488\n",
       "1     Alpine     2827  6003  38.621783 -119.798352\n",
       "2     Amador    85707  6005  38.443550 -120.653856\n",
       "3      Butte   516050  6007  39.665959 -121.601919\n",
       "4  Calaveras    65984  6009  38.183900 -120.561442"
      ]
     },
     "execution_count": 100,
     "metadata": {},
     "output_type": "execute_result"
    }
   ],
>>>>>>> 4a773e5259c499c80e405ea5519b6cc7105175e5
   "source": [
    "pd.read_sql_query('SELECT * FROM cali_county', con=engine).head()"
   ]
  },
  {
   "cell_type": "code",
<<<<<<< HEAD
   "execution_count": null,
   "metadata": {},
   "outputs": [],
=======
   "execution_count": 101,
   "metadata": {},
   "outputs": [
    {
     "data": {
      "text/html": [
       "<div>\n",
       "<style scoped>\n",
       "    .dataframe tbody tr th:only-of-type {\n",
       "        vertical-align: middle;\n",
       "    }\n",
       "\n",
       "    .dataframe tbody tr th {\n",
       "        vertical-align: top;\n",
       "    }\n",
       "\n",
       "    .dataframe thead th {\n",
       "        text-align: right;\n",
       "    }\n",
       "</style>\n",
       "<table border=\"1\" class=\"dataframe\">\n",
       "  <thead>\n",
       "    <tr style=\"text-align: right;\">\n",
       "      <th></th>\n",
       "      <th>county</th>\n",
       "      <th>cases</th>\n",
       "      <th>fips</th>\n",
       "      <th>latitude</th>\n",
       "      <th>longitude</th>\n",
       "    </tr>\n",
       "  </thead>\n",
       "  <tbody>\n",
       "    <tr>\n",
       "      <th>0</th>\n",
       "      <td>Imperial</td>\n",
       "      <td>2486469</td>\n",
       "      <td>6025</td>\n",
       "      <td>33.040814</td>\n",
       "      <td>-115.355400</td>\n",
       "    </tr>\n",
       "    <tr>\n",
       "      <th>1</th>\n",
       "      <td>Inyo</td>\n",
       "      <td>39360</td>\n",
       "      <td>6027</td>\n",
       "      <td>36.561977</td>\n",
       "      <td>-117.403927</td>\n",
       "    </tr>\n",
       "    <tr>\n",
       "      <th>2</th>\n",
       "      <td>Kern</td>\n",
       "      <td>6042885</td>\n",
       "      <td>6029</td>\n",
       "      <td>35.346629</td>\n",
       "      <td>-118.729506</td>\n",
       "    </tr>\n",
       "    <tr>\n",
       "      <th>3</th>\n",
       "      <td>Los Angeles</td>\n",
       "      <td>59976957</td>\n",
       "      <td>6037</td>\n",
       "      <td>34.196398</td>\n",
       "      <td>-118.261862</td>\n",
       "    </tr>\n",
       "    <tr>\n",
       "      <th>4</th>\n",
       "      <td>Orange</td>\n",
       "      <td>11731923</td>\n",
       "      <td>6059</td>\n",
       "      <td>33.675687</td>\n",
       "      <td>-117.777207</td>\n",
       "    </tr>\n",
       "  </tbody>\n",
       "</table>\n",
       "</div>"
      ],
      "text/plain": [
       "        county     cases  fips   latitude   longitude\n",
       "0     Imperial   2486469  6025  33.040814 -115.355400\n",
       "1         Inyo     39360  6027  36.561977 -117.403927\n",
       "2         Kern   6042885  6029  35.346629 -118.729506\n",
       "3  Los Angeles  59976957  6037  34.196398 -118.261862\n",
       "4       Orange  11731923  6059  33.675687 -117.777207"
      ]
     },
     "execution_count": 101,
     "metadata": {},
     "output_type": "execute_result"
    }
   ],
>>>>>>> 4a773e5259c499c80e405ea5519b6cc7105175e5
   "source": [
    "pd.read_sql_query('SELECT * FROM socal_geo', con=engine).head()"
   ]
  },
  {
   "cell_type": "code",
<<<<<<< HEAD
   "execution_count": null,
   "metadata": {},
   "outputs": [],
=======
   "execution_count": 102,
   "metadata": {},
   "outputs": [
    {
     "data": {
      "text/html": [
       "<div>\n",
       "<style scoped>\n",
       "    .dataframe tbody tr th:only-of-type {\n",
       "        vertical-align: middle;\n",
       "    }\n",
       "\n",
       "    .dataframe tbody tr th {\n",
       "        vertical-align: top;\n",
       "    }\n",
       "\n",
       "    .dataframe thead th {\n",
       "        text-align: right;\n",
       "    }\n",
       "</style>\n",
       "<table border=\"1\" class=\"dataframe\">\n",
       "  <thead>\n",
       "    <tr style=\"text-align: right;\">\n",
       "      <th></th>\n",
       "      <th>county</th>\n",
       "      <th>cases</th>\n",
       "      <th>fips</th>\n",
       "      <th>latitude</th>\n",
       "      <th>longitude</th>\n",
       "    </tr>\n",
       "  </thead>\n",
       "  <tbody>\n",
       "    <tr>\n",
       "      <th>0</th>\n",
       "      <td>Alameda</td>\n",
       "      <td>5741871</td>\n",
       "      <td>6001</td>\n",
       "      <td>37.647139</td>\n",
       "      <td>-121.912488</td>\n",
       "    </tr>\n",
       "    <tr>\n",
       "      <th>1</th>\n",
       "      <td>Alpine</td>\n",
       "      <td>4436</td>\n",
       "      <td>6003</td>\n",
       "      <td>38.621783</td>\n",
       "      <td>-119.798352</td>\n",
       "    </tr>\n",
       "    <tr>\n",
       "      <th>2</th>\n",
       "      <td>Amador</td>\n",
       "      <td>150719</td>\n",
       "      <td>6005</td>\n",
       "      <td>38.443550</td>\n",
       "      <td>-120.653856</td>\n",
       "    </tr>\n",
       "    <tr>\n",
       "      <th>3</th>\n",
       "      <td>Butte</td>\n",
       "      <td>716705</td>\n",
       "      <td>6007</td>\n",
       "      <td>39.665959</td>\n",
       "      <td>-121.601919</td>\n",
       "    </tr>\n",
       "    <tr>\n",
       "      <th>4</th>\n",
       "      <td>Calaveras</td>\n",
       "      <td>99176</td>\n",
       "      <td>6009</td>\n",
       "      <td>38.183900</td>\n",
       "      <td>-120.561442</td>\n",
       "    </tr>\n",
       "  </tbody>\n",
       "</table>\n",
       "</div>"
      ],
      "text/plain": [
       "      county    cases  fips   latitude   longitude\n",
       "0    Alameda  5741871  6001  37.647139 -121.912488\n",
       "1     Alpine     4436  6003  38.621783 -119.798352\n",
       "2     Amador   150719  6005  38.443550 -120.653856\n",
       "3      Butte   716705  6007  39.665959 -121.601919\n",
       "4  Calaveras    99176  6009  38.183900 -120.561442"
      ]
     },
     "execution_count": 102,
     "metadata": {},
     "output_type": "execute_result"
    }
   ],
>>>>>>> 4a773e5259c499c80e405ea5519b6cc7105175e5
   "source": [
    "pd.read_sql_query('SELECT * FROM norcal_geo', con=engine).head()"
   ]
  },
  {
   "cell_type": "code",
   "execution_count": 103,
   "metadata": {},
   "outputs": [
    {
     "data": {
      "text/html": [
       "<div>\n",
       "<style scoped>\n",
       "    .dataframe tbody tr th:only-of-type {\n",
       "        vertical-align: middle;\n",
       "    }\n",
       "\n",
       "    .dataframe tbody tr th {\n",
       "        vertical-align: top;\n",
       "    }\n",
       "\n",
       "    .dataframe thead th {\n",
       "        text-align: right;\n",
       "    }\n",
       "</style>\n",
       "<table border=\"1\" class=\"dataframe\">\n",
       "  <thead>\n",
       "    <tr style=\"text-align: right;\">\n",
       "      <th></th>\n",
       "      <th>fips</th>\n",
       "      <th>county</th>\n",
       "      <th>cases</th>\n",
       "      <th>deaths</th>\n",
       "    </tr>\n",
       "  </thead>\n",
       "  <tbody>\n",
       "    <tr>\n",
       "      <th>0</th>\n",
       "      <td>6001</td>\n",
       "      <td>Alameda</td>\n",
       "      <td>4319856</td>\n",
       "      <td>75187.0</td>\n",
       "    </tr>\n",
       "    <tr>\n",
       "      <th>1</th>\n",
       "      <td>6003</td>\n",
       "      <td>Alpine</td>\n",
       "      <td>2827</td>\n",
       "      <td>0.0</td>\n",
       "    </tr>\n",
       "    <tr>\n",
       "      <th>2</th>\n",
       "      <td>6005</td>\n",
       "      <td>Amador</td>\n",
       "      <td>85707</td>\n",
       "      <td>2343.0</td>\n",
       "    </tr>\n",
       "    <tr>\n",
       "      <th>3</th>\n",
       "      <td>6007</td>\n",
       "      <td>Butte</td>\n",
       "      <td>516050</td>\n",
       "      <td>7094.0</td>\n",
       "    </tr>\n",
       "    <tr>\n",
       "      <th>4</th>\n",
       "      <td>6009</td>\n",
       "      <td>Calaveras</td>\n",
       "      <td>65984</td>\n",
       "      <td>2172.0</td>\n",
       "    </tr>\n",
       "  </tbody>\n",
       "</table>\n",
       "</div>"
      ],
      "text/plain": [
       "   fips     county    cases   deaths\n",
       "0  6001    Alameda  4319856  75187.0\n",
       "1  6003     Alpine     2827      0.0\n",
       "2  6005     Amador    85707   2343.0\n",
       "3  6007      Butte   516050   7094.0\n",
       "4  6009  Calaveras    65984   2172.0"
      ]
     },
     "execution_count": 103,
     "metadata": {},
     "output_type": "execute_result"
    }
   ],
   "source": [
    "pd.read_sql_query('SELECT * FROM cases_deaths', con=engine).head()"
   ]
  },
  {
   "cell_type": "markdown",
   "metadata": {},
   "source": [
    "# Convert new tables into csv"
   ]
  },
  {
   "cell_type": "code",
<<<<<<< HEAD
   "execution_count": null,
=======
   "execution_count": 79,
>>>>>>> 4a773e5259c499c80e405ea5519b6cc7105175e5
   "metadata": {},
   "outputs": [],
   "source": [
    "cali_date_total_df.to_csv('output/cali_date_total_df.csv')"
   ]
  },
  {
   "cell_type": "code",
<<<<<<< HEAD
   "execution_count": null,
=======
   "execution_count": 80,
>>>>>>> 4a773e5259c499c80e405ea5519b6cc7105175e5
   "metadata": {},
   "outputs": [],
   "source": [
    "merged_all_cali_counties_df.to_csv('output/cali_county.csv')"
   ]
  },
  {
   "cell_type": "code",
<<<<<<< HEAD
   "execution_count": null,
=======
   "execution_count": 81,
>>>>>>> 4a773e5259c499c80e405ea5519b6cc7105175e5
   "metadata": {},
   "outputs": [],
   "source": [
    "merge_socal_geo_df.to_csv('output/merge_socal_geo_df.csv')"
   ]
  },
  {
   "cell_type": "code",
<<<<<<< HEAD
   "execution_count": null,
=======
   "execution_count": 82,
>>>>>>> 4a773e5259c499c80e405ea5519b6cc7105175e5
   "metadata": {},
   "outputs": [],
   "source": [
    "merge_norcal_geo_df.to_csv('output/merge_norcal_geo_df.csv')"
   ]
  },
  {
   "cell_type": "code",
<<<<<<< HEAD
   "execution_count": null,
=======
   "execution_count": 83,
>>>>>>> 4a773e5259c499c80e405ea5519b6cc7105175e5
   "metadata": {},
   "outputs": [],
   "source": [
    "covid_cali_2020_df.to_csv('output/covid_cali_2020_df.csv')"
   ]
  },
  {
   "cell_type": "code",
   "execution_count": 104,
   "metadata": {},
   "outputs": [],
   "source": [
    "county_cases_deaths_fips_df.to_csv('output/cases_deaths_df.csv')"
   ]
  }
 ],
 "metadata": {
  "kernelspec": {
   "display_name": "Python 3",
   "language": "python",
   "name": "python3"
  },
  "language_info": {
   "codemirror_mode": {
    "name": "ipython",
    "version": 3
   },
   "file_extension": ".py",
   "mimetype": "text/x-python",
   "name": "python",
   "nbconvert_exporter": "python",
   "pygments_lexer": "ipython3",
   "version": "3.8.3"
  }
 },
 "nbformat": 4,
 "nbformat_minor": 4
}

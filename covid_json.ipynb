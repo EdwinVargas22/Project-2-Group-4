{
 "cells": [
  {
   "cell_type": "code",
   "execution_count": 1,
   "metadata": {},
   "outputs": [
    {
     "ename": "ModuleNotFoundError",
     "evalue": "No module named 'config'",
     "output_type": "error",
     "traceback": [
      "\u001b[1;31m---------------------------------------------------------------------------\u001b[0m",
      "\u001b[1;31mModuleNotFoundError\u001b[0m                       Traceback (most recent call last)",
      "\u001b[1;32m<ipython-input-1-36f9b7e730c3>\u001b[0m in \u001b[0;36m<module>\u001b[1;34m\u001b[0m\n\u001b[0;32m      5\u001b[0m \u001b[1;32mfrom\u001b[0m \u001b[0mdatetime\u001b[0m \u001b[1;32mimport\u001b[0m \u001b[0mdatetime\u001b[0m\u001b[1;33m\u001b[0m\u001b[1;33m\u001b[0m\u001b[0m\n\u001b[0;32m      6\u001b[0m \u001b[1;32mimport\u001b[0m \u001b[0mnumpy\u001b[0m \u001b[1;32mas\u001b[0m \u001b[0mnp\u001b[0m\u001b[1;33m\u001b[0m\u001b[1;33m\u001b[0m\u001b[0m\n\u001b[1;32m----> 7\u001b[1;33m \u001b[1;32mfrom\u001b[0m \u001b[0mconfig\u001b[0m \u001b[1;32mimport\u001b[0m \u001b[0mpg_password\u001b[0m\u001b[1;33m\u001b[0m\u001b[1;33m\u001b[0m\u001b[0m\n\u001b[0m\u001b[0;32m      8\u001b[0m \u001b[1;32mfrom\u001b[0m \u001b[0msqlalchemy\u001b[0m \u001b[1;32mimport\u001b[0m \u001b[0mcreate_engine\u001b[0m\u001b[1;33m\u001b[0m\u001b[1;33m\u001b[0m\u001b[0m\n",
      "\u001b[1;31mModuleNotFoundError\u001b[0m: No module named 'config'"
     ]
    }
   ],
   "source": [
    "# import dependencies \n",
    "import pandas as pd\n",
    "import time\n",
    "import datetime as dt\n",
    "from datetime import datetime\n",
    "import numpy as np\n",
    "from config import pg_password\n",
    "from sqlalchemy import create_engine"
   ]
  },
  {
   "cell_type": "markdown",
   "metadata": {},
   "source": [
    "## Read in data using pd.read_csv()"
   ]
  },
  {
   "cell_type": "code",
   "execution_count": null,
   "metadata": {},
   "outputs": [],
   "source": [
    "# Read in csv\n",
    "covid_data_df = pd.read_csv(r\"us-counties.csv\")\n",
    "covid_data_df.head()"
   ]
  },
  {
   "cell_type": "code",
   "execution_count": null,
   "metadata": {},
   "outputs": [],
   "source": [
    "# Read in csv with Geolocation data of each county in US\n",
    "geo_ca_df = pd.read_csv(r\"us_cities_with_longitude,latitude_data/us-county-boundaries.csv\")\n",
    "geo_ca_df.head()"
   ]
  },
  {
   "cell_type": "markdown",
   "metadata": {},
   "source": [
    "## Check DataFrame values\n",
    "- Total date values\n",
    "- Earliest date\n",
    "- Latest date\n",
    "    "
   ]
  },
  {
   "cell_type": "code",
   "execution_count": null,
   "metadata": {},
   "outputs": [],
   "source": [
    "# Identify total date nunique() values\n",
    "covid_data_df['date'].nunique()"
   ]
  },
  {
   "cell_type": "code",
   "execution_count": null,
   "metadata": {},
   "outputs": [],
   "source": [
    "# Identify min() date range\n",
    "covid_data_df['date'].min()"
   ]
  },
  {
   "cell_type": "code",
   "execution_count": null,
   "metadata": {},
   "outputs": [],
   "source": [
    "# Identify max() date range\n",
    "covid_data_df['date'].max()"
   ]
  },
  {
   "cell_type": "markdown",
   "metadata": {},
   "source": [
    "## Clean and Transform Data\n",
    "- Format date from string to_datetime\n",
    "- Gather data for only California\n",
    "- Gather data for only 2020"
   ]
  },
  {
   "cell_type": "code",
   "execution_count": null,
   "metadata": {},
   "outputs": [],
   "source": [
    "# Convert date column from string to datetime\n",
    "covid_data_df['date'] = pd.to_datetime(covid_data_df['date'], format='%Y/%m/%d')\n",
    "covid_data_df.head()"
   ]
  },
  {
   "cell_type": "code",
   "execution_count": null,
   "metadata": {},
   "outputs": [],
   "source": [
    "# Using .loc create dataFrame for only California \n",
    "covid_cali_df = covid_data_df.loc[covid_data_df[\"state\"] == \"California\"] \n",
    "covid_cali_df.head()"
   ]
  },
  {
   "cell_type": "code",
   "execution_count": null,
   "metadata": {},
   "outputs": [],
   "source": [
    "# Get county names \n",
    "covid_cali_df.county.unique()"
   ]
  },
  {
   "cell_type": "code",
   "execution_count": null,
   "metadata": {},
   "outputs": [],
   "source": [
    "# Clean data -  remove 'unknown' county\n",
    "clean_covid_df = covid_cali_df[covid_cali_df.county != 'Unknown']\n",
    "clean_covid_df.head()"
   ]
  },
  {
   "cell_type": "code",
   "execution_count": null,
   "metadata": {},
   "outputs": [],
   "source": [
    "# # Confirm that only 58 counties in California\n",
    "clean_covid_df.county.nunique()"
   ]
  },
  {
   "cell_type": "code",
   "execution_count": null,
   "metadata": {},
   "outputs": [],
   "source": [
    "covid_cali_2020_df = clean_covid_df.loc[clean_covid_df[\"date\"] < \"2021-01-01\"]\n",
    "covid_cali_2020_df.head()"
   ]
  },
  {
   "cell_type": "code",
   "execution_count": null,
   "metadata": {},
   "outputs": [],
   "source": [
    "# Identify date total nunique() total\n",
    "covid_cali_2020_df['date'].nunique()"
   ]
  },
  {
   "cell_type": "code",
   "execution_count": null,
   "metadata": {},
   "outputs": [],
   "source": [
    "# Identify earliest date\n",
    "covid_cali_2020_df['date'].min()"
   ]
  },
  {
   "cell_type": "code",
   "execution_count": null,
   "metadata": {},
   "outputs": [],
   "source": [
    "# Identify max() date to confirm it reflects 12-31-2020\n",
    "covid_cali_2020_df['date'].max()"
   ]
  },
  {
   "cell_type": "markdown",
   "metadata": {},
   "source": [
    "## Time"
   ]
  },
  {
   "cell_type": "code",
   "execution_count": null,
   "metadata": {},
   "outputs": [],
   "source": [
    "# import time\n",
    "# import datetime\n",
    "\n",
    "# date_time = covid_cali_2020_df['date']\n",
    "# date_time_format = \"%Y-%m-%d %H:%M:%S\"\n",
    "# date_time\n",
    "\n",
    "# time_object = time.strptime(date_time, date_time_format)\n",
    "# epoch_timestamp = time.mktime(time_object)\n",
    "# epoch_timestamp"
   ]
  },
  {
   "cell_type": "code",
   "execution_count": null,
   "metadata": {},
   "outputs": [],
   "source": [
    "# import time\n",
    "# import datetime\n",
    "# d = datetime.date(covid_cali_2020_df['date'])\n",
    "\n",
    "# covid_cali_2020_df['date'] = time.mktime(d.timetuple())\n",
    "# covid_cali_2020_df"
   ]
  },
  {
   "cell_type": "markdown",
   "metadata": {},
   "source": [
    "## Create DataFrames for specific viualization needs\n",
    "- California only DataFrames grouped by date with cases total \n",
    "- All of California counties\n",
    "- Socal only DataFrames grouped by county \n",
    "- Nocal only DataFrames grouped by county"
   ]
  },
  {
   "cell_type": "code",
   "execution_count": null,
   "metadata": {},
   "outputs": [],
   "source": [
    "# Filter data to only contain \"GEOID\", \"NAME\",\"INTPTLAT\",\"INTPTLON\"\n",
    "new_geo_ca_df=geo_ca_df[[\"GEOID\", \"NAME\", \"INTPTLAT\",\"INTPTLON\"]]\n",
    "new_geo_ca_df.head()"
   ]
  },
  {
   "cell_type": "code",
   "execution_count": null,
   "metadata": {},
   "outputs": [],
   "source": [
    "# rename() columns=\n",
    "clean_geo_ca_df=new_geo_ca_df.rename(columns={\"GEOID\": \"fips\",\n",
    "                                           \"NAME\": \"county\",\n",
    "                                          \"INTPTLAT\":\"latitude\",\n",
    "                                          \"INTPTLON\":\"longitude\"\n",
    "                                         })\n",
    "clean_geo_ca_df.head()"
   ]
  },
  {
   "cell_type": "code",
   "execution_count": null,
   "metadata": {},
   "outputs": [],
   "source": [
    "clean_geo_ca_df.nunique()"
   ]
  },
  {
   "cell_type": "code",
   "execution_count": null,
   "metadata": {},
   "outputs": [],
   "source": [
    "# group all of CA data by date\n",
    "cali_groupby_date_cases_df = covid_cali_2020_df.groupby('date')"
   ]
  },
  {
   "cell_type": "code",
   "execution_count": null,
   "metadata": {},
   "outputs": [],
   "source": [
    "# Get sum for cases by date\n",
    "cali_date_total = cali_groupby_date_cases_df['cases'].sum()\n",
    "# Confirm data is correct\n",
    "cali_date_total.head()"
   ]
  },
  {
   "cell_type": "code",
   "execution_count": null,
   "metadata": {},
   "outputs": [],
   "source": [
    "# Create series into DataFrame\n",
    "cali_date_total_df = pd.DataFrame(cali_date_total)\n",
    "cali_date_total_df.head()"
   ]
  },
  {
   "cell_type": "code",
   "execution_count": null,
   "metadata": {},
   "outputs": [],
   "source": [
    "# Identify total day count\n",
    "cali_date_total_df.count()"
   ]
  },
  {
   "cell_type": "code",
   "execution_count": null,
   "metadata": {},
   "outputs": [],
   "source": [
    "# groupby() county \n",
    "all_cali_counties = covid_cali_2020_df.groupby('county')"
   ]
  },
  {
   "cell_type": "code",
   "execution_count": null,
   "metadata": {},
   "outputs": [],
   "source": [
    "# sum() \n",
    "all_cali_counties_total = all_cali_counties['cases'].sum()\n",
    "all_cali_counties_total.head()"
   ]
  },
  {
   "cell_type": "code",
   "execution_count": null,
   "metadata": {},
   "outputs": [],
   "source": [
    "all_cali_counties_df = pd.DataFrame(all_cali_counties_total)\n",
    "all_cali_counties_df.head()"
   ]
  },
  {
   "cell_type": "code",
   "execution_count": null,
   "metadata": {},
   "outputs": [],
   "source": [
    "merged_all_cali_counties_df = pd.merge(all_cali_counties_df, clean_geo_ca_df, on=\"county\", how= 'inner')\n",
    "merged_all_cali_counties_df.head()"
   ]
  },
  {
   "cell_type": "code",
   "execution_count": null,
   "metadata": {},
   "outputs": [],
   "source": [
    "# Create socalArray from dataFrame with socal counites only\n",
    "socalArray = [\"Inyo\", \"Kern\", \"San Luis Obispo\", \"Santa Barbara\", \"Ventura\", \"Los Angeles\", \"San Bernardino\", \"Orange\", \"Riverside\", \"San Diego\", \"Imperial\"]\n",
    "\n",
    "# Crating only socal_data_df by selecting cocal counties only\n",
    "socal_data_df = covid_cali_2020_df[covid_cali_2020_df[\"county\"].isin(socalArray)]\n",
    "socal_data_df.head()"
   ]
  },
  {
   "cell_type": "code",
   "execution_count": null,
   "metadata": {},
   "outputs": [],
   "source": [
    "# Confirm that only the 11 socal counites are in dataFrame\n",
    "socal_data_df.nunique()"
   ]
  },
  {
   "cell_type": "code",
   "execution_count": null,
   "metadata": {},
   "outputs": [],
   "source": [
    "# Grouped socal by county\n",
    "grouped_socal_counties = socal_data_df.groupby('county')"
   ]
  },
  {
   "cell_type": "code",
   "execution_count": null,
   "metadata": {},
   "outputs": [],
   "source": [
    "# Get sum for cases by county\n",
    "grouped_socal_county_totals =  grouped_socal_counties['cases'].sum()\n",
    "grouped_socal_county_totals.head()"
   ]
  },
  {
   "cell_type": "code",
   "execution_count": null,
   "metadata": {},
   "outputs": [],
   "source": [
    "grouped_socal_county_totals_df = pd.DataFrame(grouped_socal_county_totals)\n",
    "grouped_socal_county_totals_df.head()"
   ]
  },
  {
   "cell_type": "code",
   "execution_count": null,
   "metadata": {},
   "outputs": [],
   "source": [
    "merge_socal_geo_df = pd.merge(grouped_socal_county_totals_df,clean_geo_ca_df, on=\"county\", how=\"inner\")\n",
    "merge_socal_geo_df"
   ]
  },
  {
   "cell_type": "code",
   "execution_count": null,
   "metadata": {},
   "outputs": [],
   "source": [
    "merge_socal_geo_df.dtypes"
   ]
  },
  {
   "cell_type": "code",
   "execution_count": null,
   "metadata": {},
   "outputs": [],
   "source": [
    "# Using socal_data_df, merge with clean_covid_cali_df and create duplicates for socal counties\n",
    "duplicates = pd.merge(clean_covid_df, socal_data_df, how= 'inner', left_on=['date', 'county'], right_on=['date', 'county'], left_index=True)\n",
    "\n",
    "# Use .drop duplicates on index to create nocal_data_df\n",
    "norcal_data_df = clean_covid_df.drop(duplicates.index)\n",
    "norcal_data_df.head()"
   ]
  },
  {
   "cell_type": "code",
   "execution_count": null,
   "metadata": {},
   "outputs": [],
   "source": [
    "# Confirm that only 47 counties for nocal\n",
    "norcal_data_df.nunique()"
   ]
  },
  {
   "cell_type": "code",
   "execution_count": null,
   "metadata": {},
   "outputs": [],
   "source": [
    "# Grouped norcal data by county\n",
    "grouped_norcal_county_df = norcal_data_df.groupby('county')"
   ]
  },
  {
   "cell_type": "code",
   "execution_count": null,
   "metadata": {},
   "outputs": [],
   "source": [
    "# Get cases sum() by county \n",
    "grouped_norcal_county_total = grouped_norcal_county_df['cases'].sum()\n",
    "grouped_norcal_county_total.head()"
   ]
  },
  {
   "cell_type": "code",
   "execution_count": null,
   "metadata": {},
   "outputs": [],
   "source": [
    "# Create DataFrame from series\n",
    "grouped_norcal_county_total_df = pd.DataFrame(grouped_norcal_county_total)\n",
    "grouped_norcal_county_total_df.head()"
   ]
  },
  {
   "cell_type": "code",
   "execution_count": null,
   "metadata": {},
   "outputs": [],
   "source": [
    "merge_norcal_geo_df = pd.merge(grouped_norcal_county_total_df,clean_geo_ca_df, on=\"county\", how=\"inner\")\n",
    "merge_norcal_geo_df.head()"
   ]
  },
  {
   "cell_type": "markdown",
   "metadata": {},
   "source": [
    "## Make connection to Postgres"
   ]
  },
  {
   "cell_type": "code",
   "execution_count": null,
   "metadata": {},
   "outputs": [],
   "source": [
    "# Make connection to telecommunication_db in postgresql\n",
    "connection_string = f\"postgres:{pg_password}@localhost:5432/covid_mask_effect_db\"\n",
    "engine = create_engine(f'postgresql://{connection_string}')"
   ]
  },
  {
   "cell_type": "code",
   "execution_count": null,
   "metadata": {},
   "outputs": [],
   "source": [
    "# Read in tables_names() from postgres\n",
    "engine.table_names()"
   ]
  },
  {
   "cell_type": "markdown",
   "metadata": {},
   "source": [
    "## Load DataFrames to Postgres"
   ]
  },
  {
   "cell_type": "code",
   "execution_count": null,
   "metadata": {},
   "outputs": [],
   "source": [
    "#cali_date_total_df.to_sql(name='cali_2020', con=engine, if_exists='append', index=True)"
   ]
  },
  {
   "cell_type": "code",
   "execution_count": null,
   "metadata": {},
   "outputs": [],
   "source": [
    "#merged_all_cali_counties_df.to_sql(name='cali_county', con=engine, if_exists='append', index=False)"
   ]
  },
  {
   "cell_type": "code",
   "execution_count": null,
   "metadata": {},
   "outputs": [],
   "source": [
    "#merge_socal_geo_df.to_sql(name='socal_geo', con=engine, if_exists='append', index=False)"
   ]
  },
  {
   "cell_type": "code",
   "execution_count": null,
   "metadata": {},
   "outputs": [],
   "source": [
    "#merge_norcal_geo_df.to_sql(name='norcal_geo', con=engine, if_exists='append', index=False)"
   ]
  },
  {
   "cell_type": "markdown",
   "metadata": {},
   "source": [
    "## Read in tables from pgadmin to confirm data was received correclty"
   ]
  },
  {
   "cell_type": "code",
   "execution_count": null,
   "metadata": {},
   "outputs": [],
   "source": [
    "pd.read_sql_query('SELECT * FROM cali_2020', con=engine).head()"
   ]
  },
  {
   "cell_type": "code",
   "execution_count": null,
   "metadata": {},
   "outputs": [],
   "source": [
    "pd.read_sql_query('SELECT * FROM cali_county', con=engine).head()"
   ]
  },
  {
   "cell_type": "code",
   "execution_count": null,
   "metadata": {},
   "outputs": [],
   "source": [
    "pd.read_sql_query('SELECT * FROM socal_geo', con=engine).head()"
   ]
  },
  {
   "cell_type": "code",
   "execution_count": null,
   "metadata": {},
   "outputs": [],
   "source": [
    "pd.read_sql_query('SELECT * FROM norcal_geo', con=engine).head()"
   ]
  },
  {
   "cell_type": "markdown",
   "metadata": {},
   "source": [
    "# Convert new tables into csv"
   ]
  },
  {
   "cell_type": "code",
   "execution_count": null,
   "metadata": {},
   "outputs": [],
   "source": [
    "cali_date_total_df.to_csv('output/cali_date_total_df.csv')"
   ]
  },
  {
   "cell_type": "code",
   "execution_count": null,
   "metadata": {},
   "outputs": [],
   "source": [
    "merged_all_cali_counties_df.to_csv('output/cali_county.csv')"
   ]
  },
  {
   "cell_type": "code",
   "execution_count": null,
   "metadata": {},
   "outputs": [],
   "source": [
    "merge_socal_geo_df.to_csv('output/merge_socal_geo_df.csv')"
   ]
  },
  {
   "cell_type": "code",
   "execution_count": null,
   "metadata": {},
   "outputs": [],
   "source": [
    "merge_norcal_geo_df.to_csv('output/merge_norcal_geo_df.csv')"
   ]
  },
  {
   "cell_type": "code",
   "execution_count": null,
   "metadata": {},
   "outputs": [],
   "source": [
    "covid_cali_2020_df.to_csv('output/covid_cali_2020_df.csv')"
   ]
  }
 ],
 "metadata": {
  "kernelspec": {
   "display_name": "Python 3",
   "language": "python",
   "name": "python3"
  },
  "language_info": {
   "codemirror_mode": {
    "name": "ipython",
    "version": 3
   },
   "file_extension": ".py",
   "mimetype": "text/x-python",
   "name": "python",
   "nbconvert_exporter": "python",
   "pygments_lexer": "ipython3",
   "version": "3.8.3"
  }
 },
 "nbformat": 4,
 "nbformat_minor": 4
}
